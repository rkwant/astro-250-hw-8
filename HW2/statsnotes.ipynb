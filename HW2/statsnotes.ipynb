{
 "metadata": {
  "name": "statsnotes"
 }, 
 "nbformat": 2, 
 "worksheets": [
  {
   "cells": [
    {
     "cell_type": "code", 
     "collapsed": false, 
     "input": [
      "%pylab"
     ], 
     "language": "python", 
     "outputs": [
      {
       "output_type": "stream", 
       "stream": "stdout", 
       "text": [
        "", 
        "Welcome to pylab, a matplotlib-based Python environment [backend: WXAgg].", 
        "For more information, type &apos;help(pylab)&apos;."
       ]
      }
     ], 
     "prompt_number": 1
    }, 
    {
     "cell_type": "code", 
     "collapsed": true, 
     "input": [
      "import scipy.stats as stats", 
      "import numpy as np"
     ], 
     "language": "python", 
     "outputs": [], 
     "prompt_number": 17
    }, 
    {
     "cell_type": "code", 
     "collapsed": true, 
     "input": [
      "rv=stats.norm()"
     ], 
     "language": "python", 
     "outputs": [], 
     "prompt_number": 4
    }, 
    {
     "cell_type": "code", 
     "collapsed": false, 
     "input": [
      "rv.mean()"
     ], 
     "language": "python", 
     "outputs": [
      {
       "output_type": "pyout", 
       "prompt_number": 6, 
       "text": [
        "0.0"
       ]
      }
     ], 
     "prompt_number": 6
    }, 
    {
     "cell_type": "code", 
     "collapsed": false, 
     "input": [
      "rv.std()"
     ], 
     "language": "python", 
     "outputs": [
      {
       "output_type": "pyout", 
       "prompt_number": 7, 
       "text": [
        "1.0"
       ]
      }
     ], 
     "prompt_number": 7
    }, 
    {
     "cell_type": "code", 
     "collapsed": false, 
     "input": [
      "rv.pdf([-2, -1, 0, 1, 2])"
     ], 
     "language": "python", 
     "outputs": [
      {
       "output_type": "pyout", 
       "prompt_number": 8, 
       "text": [
        "array([ 0.05399097,  0.24197072,  0.39894228,  0.24197072,  0.05399097])"
       ]
      }
     ], 
     "prompt_number": 8
    }, 
    {
     "cell_type": "code", 
     "collapsed": false, 
     "input": [
      "rv.cdf([-2, -1, 0, 1, 2])"
     ], 
     "language": "python", 
     "outputs": [
      {
       "output_type": "pyout", 
       "prompt_number": 9, 
       "text": [
        "array([ 0.02275013,  0.15865525,  0.5       ,  0.84134475,  0.97724987])"
       ]
      }
     ], 
     "prompt_number": 9
    }, 
    {
     "cell_type": "code", 
     "collapsed": false, 
     "input": [
      "rv.sf([-2, -1, 0, 1, 2])#survival function"
     ], 
     "language": "python", 
     "outputs": [
      {
       "output_type": "pyout", 
       "prompt_number": 10, 
       "text": [
        "array([ 0.97724987,  0.84134475,  0.5       ,  0.15865525,  0.02275013])"
       ]
      }
     ], 
     "prompt_number": 10
    }, 
    {
     "cell_type": "code", 
     "collapsed": false, 
     "input": [
      "#percentage point function (inverse cdf)", 
      "rv.ppf([0.227, 0.159, 0.5, 0.841, 0.977])"
     ], 
     "language": "python", 
     "outputs": [
      {
       "output_type": "pyout", 
       "prompt_number": 11, 
       "text": [
        "array([-0.74876311, -0.99857627,  0.        ,  0.99857627,  1.99539331])"
       ]
      }
     ], 
     "prompt_number": 11
    }, 
    {
     "cell_type": "code", 
     "collapsed": false, 
     "input": [
      "rv.rvs(10)#random sample"
     ], 
     "language": "python", 
     "outputs": [
      {
       "output_type": "pyout", 
       "prompt_number": 12, 
       "text": [
        "array([-1.10215081, -0.65522691,  0.01149104,  0.60820636, -0.06480356,", 
        "        0.04535795,  0.34796928,  1.68480373, -0.93065872,  0.04770925])"
       ]
      }
     ], 
     "prompt_number": 12
    }, 
    {
     "cell_type": "code", 
     "collapsed": false, 
     "input": [
      "rv.moment(1)"
     ], 
     "language": "python", 
     "outputs": [
      {
       "output_type": "pyout", 
       "prompt_number": 14, 
       "text": [
        "0.0"
       ]
      }
     ], 
     "prompt_number": 14
    }, 
    {
     "cell_type": "code", 
     "collapsed": false, 
     "input": [
      "rv.interval(alpha=0.95)#confidence interval"
     ], 
     "language": "python", 
     "outputs": [
      {
       "output_type": "pyout", 
       "prompt_number": 15, 
       "text": [
        "(-1.959963984540054, 1.959963984540054)"
       ]
      }
     ], 
     "prompt_number": 15
    }, 
    {
     "cell_type": "code", 
     "collapsed": false, 
     "input": [
      "#sampling a multivariate normal distribution (scipy doesn't have any multivariate functions)", 
      "mu=[0,2]", 
      "sig=[[2,2],[2,5]]", 
      "sample = np.random.multivariate_normal(mu, sig, 1000)", 
      "plot(sample[:,0], sample[:,1], '.', color='k')"
     ], 
     "language": "python", 
     "outputs": [
      {
       "output_type": "pyout", 
       "prompt_number": 22, 
       "text": [
        "[&lt;matplotlib.lines.Line2D at 0x8765a90&gt;]"
       ]
      }
     ], 
     "prompt_number": 22
    }, 
    {
     "cell_type": "markdown", 
     "source": [
      "kde-you have a bunch of data points, and you want to estimate the PDF, so you put a gaussian on each data point, and then sum everything"
     ]
    }, 
    {
     "cell_type": "code", 
     "collapsed": false, 
     "input": [
      "#maximum likelihood estimation", 
      "#f(x,a,b) = gamma(a+b)/(gamma(a)*gamma(b))*x**(a-1)*(1-x)**(b-1)", 
      "betasamp=stats.beta.rvs(4,7,size=1000)", 
      "xvec=arange(0, 1, 0.01)", 
      "plot(xvec, map(lambda x: stats.beta.pdf(x,4,7),xvec),'r-',linewidth=3)", 
      "hist(betasamp, normed=True)"
     ], 
     "language": "python", 
     "outputs": [
      {
       "output_type": "pyout", 
       "prompt_number": 29, 
       "text": [
        "(array([ 0.40850994,  1.2510617 ,  1.94042223,  2.66808056,  2.47659153,", 
        "        1.86382661,  1.2510617 ,  0.5361693 ,  0.33191433,  0.03829781]),", 
        " array([ 0.03508084,  0.1134143 ,  0.19174777,  0.27008124,  0.3484147 ,", 
        "        0.42674817,  0.50508164,  0.5834151 ,  0.66174857,  0.74008204,", 
        "        0.8184155 ]),", 
        " &lt;a list of 10 Patch objects&gt;)"
       ]
      }
     ], 
     "prompt_number": 29
    }, 
    {
     "cell_type": "code", 
     "collapsed": false, 
     "input": [
      "stats.beta.fit(betasamp)"
     ], 
     "language": "python", 
     "outputs": [
      {
       "output_type": "pyout", 
       "prompt_number": 27, 
       "text": [
        "(4.0404577830445891,", 
        " 7.0480099975401611,", 
        " 0.0080705699091499633,", 
        " 0.97992846373394027)"
       ]
      }
     ], 
     "prompt_number": 27
    }, 
    {
     "cell_type": "code", 
     "collapsed": false, 
     "input": [
      "#every rv_continuous distribution has two parameters loc and scale, which shift and stretch the distribution.  ", 
      "stats.beta.fit(betasamp, floc=0, fscale=1)"
     ], 
     "language": "python", 
     "outputs": [
      {
       "output_type": "pyout", 
       "prompt_number": 28, 
       "text": [
        "(4.2428865025334703, 7.376927844183121, 0, 1)"
       ]
      }
     ], 
     "prompt_number": 28
    }, 
    {
     "cell_type": "code", 
     "collapsed": false, 
     "input": [
      "#kolmogorov-smirnov test", 
      "stats.kstest(betasamp,'beta',(4.,7.))"
     ], 
     "language": "python", 
     "outputs": [
      {
       "output_type": "pyout", 
       "prompt_number": 31, 
       "text": [
        "(0.028316343411291106, 0.39483284866996482)"
       ]
      }
     ], 
     "prompt_number": 31
    }, 
    {
     "cell_type": "code", 
     "collapsed": true, 
     "input": [
      "betasamp1=stats.veta.rvs(1,1,size=1000)", 
      "stats.ks_2#check to see if data came from the same distribution"
     ], 
     "language": "python", 
     "outputs": [], 
     "prompt_number": "&nbsp;"
    }
   ]
  }
 ]
}