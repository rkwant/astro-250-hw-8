{
 "metadata": {
  "name": "problem1"
 }, 
 "nbformat": 2, 
 "worksheets": [
  {
   "cells": [
    {
     "cell_type": "code", 
     "collapsed": false, 
     "input": [
      "#start pylab", 
      "%pylab"
     ], 
     "language": "python", 
     "outputs": [
      {
       "output_type": "stream", 
       "stream": "stdout", 
       "text": [
        "", 
        "Welcome to pylab, a matplotlib-based Python environment [backend: WXAgg].", 
        "For more information, type &apos;help(pylab)&apos;."
       ]
      }
     ], 
     "prompt_number": 1
    }, 
    {
     "cell_type": "code", 
     "collapsed": true, 
     "input": [
      "#import the necessary modules", 
      "from pylab import rcParams", 
      "import numpy as np", 
      "import matplotlib.pyplot as plt", 
      "from scipy import polyval, polyfit", 
      "from matplotlib.ticker import MultipleLocator"
     ], 
     "language": "python", 
     "outputs": [], 
     "prompt_number": 2
    }, 
    {
     "cell_type": "code", 
     "collapsed": true, 
     "input": [
      "#define the labels and datatypes for the data", 
      "dt = [(\"time\", np.int32), (\"H\", np.float32), (\"F\", np.float32), (\"Herror\", np.float32), (\"Ferror\", np.float32)]"
     ], 
     "language": "python", 
     "outputs": [], 
     "prompt_number": 3
    }, 
    {
     "cell_type": "code", 
     "collapsed": true, 
     "input": [
      "#load the data and structure it as a recarray", 
      "data = np.loadtxt(\"p1_data.txt\", dt).view(np.recarray)"
     ], 
     "language": "python", 
     "outputs": [], 
     "prompt_number": 4
    }, 
    {
     "cell_type": "code", 
     "collapsed": false, 
     "input": [
      "#set parameters for plotting", 
      "params = {'axes.labelsize': 12,'text.fontsize': 12,'legend.fontsize': 12,'xtick.labelsize': 12,'ytick.labelsize': 12,'figure.figsize': [7,5]}", 
      "rcParams.update(params)", 
      "", 
      "#get the current figure, clear it, and then get the current axes.  ", 
      "gcf()", 
      "clf()", 
      "", 
      "#plot the data", 
      "line1,bar1,c1 = errorbar(data.time, data.H, yerr=data.Herror, fmt='o', color='white', ecolor='black', markersize=11)", 
      "line2,bar2,c2 = errorbar(data.time[0:4], data.F[0:4], yerr=data.Ferror[0:4], fmt='o', color='black', markersize=11)", 
      "errorbar(data.time[4], data.F[4], data.Ferror[4], fmt='D', color='black', markersize=11)", 
      "", 
      "#get the current axes", 
      "axes = gca()", 
      "", 
      "#set the x and y ranges of the viewport", 
      "ylim([-3, 0])", 
      "xlim([-0.2, 5])", 
      "", 
      "#label the axes", 
      "ylabel(\"-T$\\Delta$S$\\degree_b$ (kcal mol$^{-1}$)\", weight='bold')", 
      "xlabel(\"Number of (CX$_2$)$_n$ (X = H or F)\", weight='bold')", 
      "", 
      "#create a legend, hide the frame", 
      "l=legend((line1, line2), (\"X = H\", \"X = F\"), loc='upper right', numpoints=1)", 
      "l.draw_frame(False)", 
      "", 
      "#fit a line to each data set", 
      "(ar1,br1)=polyfit(data.time,data.H,1)", 
      "(ar2, br2) = polyfit(data.time[:4], data.F[:4], 1)", 
      "y1=polyval([ar1,br1],data.time)", 
      "y2=polyval([ar2,br2],data.time[:4])", 
      "", 
      "#plot the lines", 
      "plot(data.time, y1, color='black')", 
      "plot(data.time[0:4], y2, color='black')", 
      "", 
      "#set the locations of the ticks to be the bottom and the left", 
      "axes.xaxis.set_ticks_position('bottom')", 
      "axes.yaxis.set_ticks_position('left')", 
      "", 
      "#specify the format of the yaxis ticks", 
      "yaxisFormatter = MultipleLocator(1)", 
      "axes.yaxis.set_major_locator(yaxisFormatter)"
     ], 
     "language": "python", 
     "outputs": [], 
     "prompt_number": 5
    }
   ]
  }
 ]
}