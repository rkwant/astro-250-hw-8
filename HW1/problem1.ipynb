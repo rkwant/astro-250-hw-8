{
 "metadata": {
  "name": "problem1"
 }, 
 "nbformat": 2, 
 "worksheets": [
  {
   "cells": [
    {
     "cell_type": "code", 
     "collapsed": false, 
     "input": [
      "%pylab"
     ], 
     "language": "python", 
     "outputs": [
      {
       "output_type": "stream", 
       "stream": "stdout", 
       "text": [
        "", 
        "Welcome to pylab, a matplotlib-based Python environment [backend: WXAgg].", 
        "For more information, type &apos;help(pylab)&apos;."
       ]
      }
     ], 
     "prompt_number": 1
    }, 
    {
     "cell_type": "code", 
     "collapsed": false, 
     "input": [
      "import numpy as np", 
      "import matplotlib.pyplot as plt", 
      "from scipy import linspace, polyval, polyfit, sqrt, stats, randn"
     ], 
     "language": "python", 
     "outputs": [], 
     "prompt_number": 70
    }, 
    {
     "cell_type": "code", 
     "collapsed": true, 
     "input": [
      "dt = [(\"time\", np.int32), (\"H\", np.float32), (\"F\", np.float32), (\"Herror\", np.float32), (\"Ferror\", np.float32)]"
     ], 
     "language": "python", 
     "outputs": [], 
     "prompt_number": 67
    }, 
    {
     "cell_type": "code", 
     "collapsed": true, 
     "input": [
      "data = np.loadtxt(\"p1_data.txt\", dt).view(np.recarray)"
     ], 
     "language": "python", 
     "outputs": [], 
     "prompt_number": 68
    }, 
    {
     "cell_type": "code", 
     "collapsed": false, 
     "input": [
      "gcf()", 
      "clf()", 
      "axes = gca()", 
      "line1,bar1,c1 = axes.errorbar(data.time, data.H, yerr=data.Herror, fmt='o', color='white', ecolor='black', markersize=11)", 
      "line2,bar2,c2 = axes.errorbar(data.time[0:4], data.F[0:4], yerr=data.Ferror[0:4], fmt='o', color='black', markersize=11)", 
      "axes.errorbar(data.time[4], data.F[4], data.Ferror[4], fmt='D', color='black', markersize=11)", 
      "ylim([-3, 0])", 
      "xlim([-0.2, 5])", 
      "ylabel(\"T$\\Delta$S$\\degree_b$ (kcal mol$^{-1}$)\")", 
      "xlabel(\"Number of (CX$_2$)$_n$ (X = H ror F)\")", 
      "l=legend((line1, line2), (\"X = H\", \"X = F\"), loc='upper right', numpoints=1)", 
      "l.draw_frame(False)", 
      "", 
      "(ar1,br1)=polyfit(data.time,data.H,1)", 
      "(ar2, br2) = polyfit(data.time[:4], data.F[:4], 1)", 
      "y1=polyval([ar,br],data.time)", 
      "y2=polyval([ar2,br2],data.time[:4])", 
      "", 
      "plot(data.time, y1, color='black')", 
      "plot(data.time[0:4], y2, color='black')", 
      "", 
      "axes.xaxis.set_ticks_position('bottom')", 
      "axes.yaxis.set_ticks_position('left')"
     ], 
     "language": "python", 
     "outputs": [], 
     "prompt_number": 107
    }
   ]
  }
 ]
}