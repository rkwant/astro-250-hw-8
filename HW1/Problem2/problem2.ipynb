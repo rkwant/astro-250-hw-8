{
 "metadata": {
  "name": "problem2"
 }, 
 "nbformat": 2, 
 "worksheets": [
  {
   "cells": [
    {
     "cell_type": "code", 
     "collapsed": false, 
     "input": [
      "#import pylab", 
      "%pylab"
     ], 
     "language": "python", 
     "outputs": [
      {
       "output_type": "stream", 
       "stream": "stdout", 
       "text": [
        "", 
        "Welcome to pylab, a matplotlib-based Python environment [backend: WXAgg].", 
        "For more information, type &apos;help(pylab)&apos;."
       ]
      }
     ], 
     "prompt_number": 1
    }, 
    {
     "cell_type": "code", 
     "collapsed": true, 
     "input": [
      "#import necessary modules", 
      "import numpy as np", 
      "import matplotlib.pyplot as plt", 
      "import os", 
      "from matplotlib.ticker import MultipleLocator, FormatStrFormatter", 
      "from pylab import rcParams"
     ], 
     "language": "python", 
     "outputs": [], 
     "prompt_number": 2
    }, 
    {
     "cell_type": "code", 
     "collapsed": true, 
     "input": [
      "#specify the data format", 
      "format = [(\"date\", np.int32), (\"value\", np.float32)]"
     ], 
     "language": "python", 
     "outputs": [], 
     "prompt_number": 3
    }, 
    {
     "cell_type": "code", 
     "collapsed": true, 
     "input": [
      "#load the data", 
      "tdata = np.loadtxt(\"ny_temps.txt\", format, skiprows=1).view(np.recarray)", 
      "gdata = np.loadtxt(\"google_data.txt\", format, skiprows=1).view(np.recarray)", 
      "ydata = np.loadtxt(\"yahoo_data.txt\", format, skiprows=1).view(np.recarray)"
     ], 
     "language": "python", 
     "outputs": [], 
     "prompt_number": 4
    }, 
    {
     "cell_type": "code", 
     "collapsed": true, 
     "input": [
      "#set parameters for plotting--specify figure size and font sizes", 
      "params = {'axes.labelsize': 12,'text.fontsize': 12,'legend.fontsize': 12,'xtick.labelsize': 12,'ytick.labelsize': 12,'figure.figsize': [11,8]} ", 
      "rcParams.update(params)", 
      "", 
      "#create a figure and a set of axes", 
      "f, ax = plt.subplots()", 
      "", 
      "#graph the stock data", 
      "gline = ax.plot(gdata.date, gdata.value)", 
      "yline = ax.plot(ydata.date, ydata.value, \"purple\")", 
      "", 
      "#set the axes labels and the y range", 
      "ax.set_ylabel(\"Value (Dollars)\")", 
      "ax.set_xlabel(\"Date (MJD)\")", 
      "ax.set_ylim(-10, 750)", 
      "", 
      "#twin the x-axis, plot the temperature data, label the y-axis, and set the y range", 
      "ax2 = ax.twinx()", 
      "tline = ax2.plot(tdata.date, tdata.value, linestyle=\"--\", color=\"red\", linewidth=1.5)", 
      "ax2.set_ylabel(\"Temperature ($\\\\degree$F)\")", 
      "ax2.set_ylim(-150, 100)", 
      "", 
      "#set the domain", 
      "ax.set_xlim(48900, 55700)", 
      "", 
      "#create a legend, position it, and hide the frame", 
      "l = f.legend((yline, gline, tline), (\"Yahoo! Stock Value\", \"Google Stock Value\", \"NY Mon. High Temp\"), (0.16, 0.46))", 
      "l.draw_frame(False)", 
      "", 
      "#create tick locators to define where the ticks should appear", 
      "xminorLocator   = MultipleLocator(200)", 
      "yStockMinorLocator = MultipleLocator(20)", 
      "yTempMinorLocator = MultipleLocator(10)", 
      "", 
      "#set the locations of the minor ticks", 
      "ax2.xaxis.set_minor_locator(xminorLocator)", 
      "ax2.yaxis.set_minor_locator(yTempMinorLocator)", 
      "ax.yaxis.set_minor_locator(yStockMinorLocator)", 
      "", 
      "#set teh location of the x-axis ticks", 
      "ax.xaxis.set_ticks_position('bottom')", 
      "", 
      "#set the font size of the legend text", 
      "setp(l.get_texts(), fontsize='small')", 
      "", 
      "#set the title, and update the plot", 
      "f.suptitle(\"New York Temperature, Google, and Yahoo!\", fontsize=22, family=\"serif\", weight='bold')", 
      "plt.draw()"
     ], 
     "language": "python", 
     "outputs": [], 
     "prompt_number": 10
    }
   ]
  }
 ]
}