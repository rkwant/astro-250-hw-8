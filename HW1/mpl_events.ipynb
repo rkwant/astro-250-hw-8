{
 "metadata": {
  "name": "mpl_events"
 }, 
 "nbformat": 2, 
 "worksheets": [
  {
   "cells": [
    {
     "cell_type": "markdown", 
     "source": [
      "Matplotlib Events", 
      "-------------------", 
      "", 
      "Let's first explore and go through what keys are already used for callbacks:", 
      "`o p l g h c v`"
     ]
    }, 
    {
     "cell_type": "code", 
     "collapsed": false, 
     "input": [
      "%pylab", 
      "# don't run this with inline mode - that prevents us from doing interesting things with events"
     ], 
     "language": "python", 
     "outputs": [
      {
       "output_type": "stream", 
       "stream": "stdout", 
       "text": [
        "", 
        "Welcome to pylab, a matplotlib-based Python environment [backend: WXAgg].", 
        "For more information, type 'help(pylab)'."
       ]
      }
     ], 
     "prompt_number": 2
    }, 
    {
     "cell_type": "code", 
     "collapsed": false, 
     "input": [
      "[(k,rcParams[k]) for k in rcParams if 'keymap' in k]"
     ], 
     "language": "python", 
     "outputs": [
      {
       "output_type": "pyout", 
       "prompt_number": 3, 
       "text": [
        "[(&apos;keymap.fullscreen&apos;, &apos;f&apos;),", 
        " (&apos;keymap.pan&apos;, &apos;p&apos;),", 
        " (&apos;keymap.zoom&apos;, &apos;o&apos;),", 
        " (&apos;keymap.all_axes&apos;, &apos;a&apos;),", 
        " (&apos;keymap.home&apos;, [&apos;h&apos;, &apos;r&apos;, &apos;home&apos;]),", 
        " (&apos;keymap.xscale&apos;, [&apos;k&apos;, &apos;L&apos;]),", 
        " (&apos;keymap.save&apos;, &apos;s&apos;),", 
        " (&apos;keymap.forward&apos;, [&apos;right&apos;, &apos;v&apos;]),", 
        " (&apos;keymap.grid&apos;, &apos;g&apos;),", 
        " (&apos;keymap.yscale&apos;, &apos;l&apos;),", 
        " (&apos;keymap.back&apos;, [&apos;left&apos;, &apos;c&apos;, &apos;backspace&apos;])]"
       ]
      }
     ], 
     "prompt_number": 3
    }, 
    {
     "cell_type": "code", 
     "collapsed": true, 
     "input": [
      "%loadpy http://matplotlib.sourceforge.net/examples/widgets/slider_demo.py"
     ], 
     "language": "python", 
     "outputs": [], 
     "prompt_number": 6
    }, 
    {
     "cell_type": "code", 
     "collapsed": true, 
     "input": [
      "from pylab import *", 
      "from matplotlib.widgets import Slider, Button, RadioButtons", 
      "", 
      "ax = subplot(111)", 
      "subplots_adjust(left=0.25, bottom=0.25)", 
      "t = arange(0.0, 1.0, 0.001)", 
      "a0 = 5", 
      "f0 = 3", 
      "s = a0*sin(2*pi*f0*t)", 
      "l, = plot(t,s, lw=2, color='red')", 
      "axis([0, 1, -10, 10])", 
      "", 
      "axcolor = 'lightgoldenrodyellow'", 
      "axfreq = axes([0.25, 0.1, 0.65, 0.03], axisbg=axcolor)", 
      "axamp  = axes([0.25, 0.15, 0.65, 0.03], axisbg=axcolor)", 
      "", 
      "sfreq = Slider(axfreq, 'Freq', 0.1, 30.0, valinit=f0)", 
      "samp = Slider(axamp, 'Amp', 0.1, 10.0, valinit=a0)", 
      "", 
      "def update(val):", 
      "    amp = samp.val", 
      "    freq = sfreq.val", 
      "    l.set_ydata(amp*sin(2*pi*freq*t))", 
      "    draw()", 
      "sfreq.on_changed(update)", 
      "samp.on_changed(update)", 
      "", 
      "resetax = axes([0.8, 0.025, 0.1, 0.04])", 
      "button = Button(resetax, 'Reset', color=axcolor, hovercolor='0.975')", 
      "def reset(event):", 
      "    sfreq.reset()", 
      "    samp.reset()", 
      "button.on_clicked(reset)", 
      "", 
      "rax = axes([0.025, 0.5, 0.15, 0.15], axisbg=axcolor)", 
      "radio = RadioButtons(rax, ('red', 'blue', 'green'), active=0)", 
      "def colorfunc(label):", 
      "    l.set_color(label)", 
      "    draw()", 
      "radio.on_clicked(colorfunc)", 
      "", 
      "show()"
     ], 
     "language": "python", 
     "outputs": [], 
     "prompt_number": 7
    }, 
    {
     "cell_type": "code", 
     "collapsed": true, 
     "input": [
      "%loadpy http://matplotlib.sourceforge.net/examples/widgets/cursor.py"
     ], 
     "language": "python", 
     "outputs": [], 
     "prompt_number": 8
    }, 
    {
     "cell_type": "code", 
     "collapsed": true, 
     "input": [
      "#!/usr/bin/env python", 
      "", 
      "from matplotlib.widgets import Cursor", 
      "import numpy as np", 
      "import matplotlib.pyplot as plt", 
      "", 
      "", 
      "fig = plt.figure(figsize=(8, 6))", 
      "ax = fig.add_subplot(111, axisbg='#FFFFCC')", 
      "", 
      "x, y = 4*(np.random.rand(2, 100)-.5)", 
      "ax.plot(x, y, 'o')", 
      "ax.set_xlim(-2, 2)", 
      "ax.set_ylim(-2, 2)", 
      "", 
      "# set useblit = True on gtkagg for enhanced performance", 
      "cursor = Cursor(ax, useblit=True, color='red', linewidth=2 )", 
      "", 
      "plt.show()"
     ], 
     "language": "python", 
     "outputs": [], 
     "prompt_number": 9
    }, 
    {
     "cell_type": "code", 
     "collapsed": true, 
     "input": [
      "%loadpy http://matplotlib.sourceforge.net/examples/event_handling/keypress_demo.py"
     ], 
     "language": "python", 
     "outputs": [], 
     "prompt_number": 10
    }, 
    {
     "cell_type": "code", 
     "collapsed": false, 
     "input": [
      "#!/usr/bin/env python", 
      "\"\"\"", 
      "Show how to connect to keypress events", 
      "\"\"\"", 
      "import numpy as n", 
      "from pylab import figure, show", 
      "", 
      "def press(event):", 
      "    print 'press', event.key", 
      "    if event.key=='x':", 
      "        visible = xl.get_visible()", 
      "        xl.set_visible(not visible)", 
      "        fig.canvas.draw()", 
      "", 
      "fig = figure()", 
      "ax = fig.add_subplot(111)", 
      "", 
      "fig.canvas.mpl_connect('key_press_event', press)", 
      "", 
      "ax.plot(n.random.rand(12), n.random.rand(12), 'go')", 
      "xl = ax.set_xlabel('easy come, easy go')", 
      "", 
      "show()"
     ], 
     "language": "python", 
     "outputs": [], 
     "prompt_number": 11
    }, 
    {
     "cell_type": "markdown", 
     "source": [
      "Now modify the example above to pan left and right the width of the current view using `,` and `.` keys"
     ]
    }, 
    {
     "cell_type": "code", 
     "collapsed": false, 
     "input": [
      "loadpy http://matplotlib.sourceforge.net/examples/event_handling/data_browser.py"
     ], 
     "language": "python", 
     "outputs": [], 
     "prompt_number": 16
    }, 
    {
     "cell_type": "code", 
     "collapsed": true, 
     "input": [
      "import numpy as np", 
      "from pylab import figure, show", 
      "", 
      "", 
      "X = np.random.rand(100, 200)", 
      "xs = np.mean(X, axis=1)", 
      "ys = np.std(X, axis=1)", 
      "", 
      "fig = figure()", 
      "ax = fig.add_subplot(211)", 
      "ax.set_title('click on point to plot time series')", 
      "line, = ax.plot(xs, ys, 'o', picker=5)  # 5 points tolerance", 
      "ax2 = fig.add_subplot(212)", 
      "", 
      "class PointBrowser:", 
      "    \"\"\"", 
      "    Click on a point to select and highlight it -- the data that", 
      "    generated the point will be shown in the lower axes.  Use the 'n'", 
      "    and 'p' keys to browse through the next and pervious points", 
      "    \"\"\"", 
      "    def __init__(self):", 
      "        self.lastind = 0", 
      "", 
      "        self.text = ax.text(0.05, 0.95, 'selected: none',", 
      "                            transform=ax.transAxes, va='top')", 
      "        self.selected,  = ax.plot([xs[0]], [ys[0]], 'o', ms=12, alpha=0.4,", 
      "                                  color='yellow', visible=False)", 
      "", 
      "    def onpress(self, event):", 
      "        if self.lastind is None: return", 
      "        if event.key not in ('n', 'p'): return", 
      "        if event.key=='n': inc = 1", 
      "        else:  inc = -1", 
      "", 
      "", 
      "        self.lastind += inc", 
      "        self.lastind = np.clip(self.lastind, 0, len(xs)-1)", 
      "        self.update()", 
      "", 
      "    def onpick(self, event):", 
      "", 
      "       if event.artist!=line: return True", 
      "", 
      "       N = len(event.ind)", 
      "       if not N: return True", 
      "", 
      "       # the click locations", 
      "       x = event.mouseevent.xdata", 
      "       y = event.mouseevent.ydata", 
      "", 
      "", 
      "       distances = np.hypot(x-xs[event.ind], y-ys[event.ind])", 
      "       indmin = distances.argmin()", 
      "       dataind = event.ind[indmin]", 
      "", 
      "       self.lastind = dataind", 
      "       self.update()", 
      "", 
      "    def update(self):", 
      "        if self.lastind is None: return", 
      "", 
      "        dataind = self.lastind", 
      "", 
      "        ax2.cla()", 
      "        ax2.plot(X[dataind])", 
      "", 
      "        ax2.text(0.05, 0.9, 'mu=%1.3f\\nsigma=%1.3f'%(xs[dataind], ys[dataind]),", 
      "                 transform=ax2.transAxes, va='top')", 
      "        ax2.set_ylim(-0.5, 1.5)", 
      "        self.selected.set_visible(True)", 
      "        self.selected.set_data(xs[dataind], ys[dataind])", 
      "", 
      "        self.text.set_text('selected: %d'%dataind)", 
      "        fig.canvas.draw()", 
      "", 
      "", 
      "browser = PointBrowser()", 
      "", 
      "fig.canvas.mpl_connect('pick_event', browser.onpick)", 
      "fig.canvas.mpl_connect('key_press_event', browser.onpress)", 
      "", 
      "show()"
     ], 
     "language": "python", 
     "outputs": [], 
     "prompt_number": 17
    }, 
    {
     "cell_type": "code", 
     "collapsed": true, 
     "input": [], 
     "language": "python", 
     "outputs": []
    }
   ]
  }
 ]
}