{
 "metadata": {
  "name": "political db"
 }, 
 "nbformat": 2, 
 "worksheets": [
  {
   "cells": [
    {
     "cell_type": "code", 
     "collapsed": false, 
     "input": [
      "%pylab"
     ], 
     "language": "python", 
     "outputs": [
      {
       "output_type": "stream", 
       "stream": "stdout", 
       "text": [
        "", 
        "Welcome to pylab, a matplotlib-based Python environment [backend: WXAgg].", 
        "For more information, type &apos;help(pylab)&apos;."
       ]
      }
     ], 
     "prompt_number": 1
    }, 
    {
     "cell_type": "code", 
     "collapsed": true, 
     "input": [
      "import sqlite3", 
      "from bs4 import BeautifulSoup", 
      "import json, urllib2, urllib", 
      "import re", 
      "import csv", 
      "import unicodedata", 
      "import matplotlib.pyplot as plt", 
      "import time", 
      "from pandas import *", 
      "import pandas as pd"
     ], 
     "language": "python", 
     "outputs": [], 
     "prompt_number": 2
    }, 
    {
     "cell_type": "code", 
     "collapsed": true, 
     "input": [
      "#connect to the database, change this to re-create the database.", 
      "connection = sqlite3.connect(\"db/politics.db\")", 
      "cursor = connection.cursor()"
     ], 
     "language": "python", 
     "outputs": [], 
     "prompt_number": 3
    }, 
    {
     "cell_type": "code", 
     "collapsed": true, 
     "input": [
      "#create a table for the races", 
      "sql_cmd = \"\"\"CREATE TABLE races (race TEXT PRIMARY KEY, date DATE, url TEXT)\"\"\"", 
      "cursor.execute(sql_cmd)", 
      "", 
      "#create a table for the candidates", 
      "sql_cmd = \"\"\"CREATE TABLE candidates (", 
      "          name TEXT PRIMARY KEY,", 
      "          hometown TEXT,", 
      "          homestate TEXT,", 
      "          party TEXT,", 
      "          birthdate DATE,", 
      "          picturePath TEXT,", 
      "          lat FLOAT)\"\"\"", 
      "cursor.execute(sql_cmd)", 
      "", 
      "#create a table for the predictions", 
      "sql_cmd = \"\"\"CREATE TABLE predictions (", 
      "          date DATE,", 
      "          price FLOAT,", 
      "          volume FLOAT,", 
      "          candidate TEXT, ", 
      "          race TEXT,  ", 
      "          FOREIGN KEY(candidate) REFERENCES persons(person),", 
      "          FOREIGN KEY(race) REFERENCES races(race))\"\"\"", 
      "cursor.execute(sql_cmd)", 
      "", 
      "#commit the changes", 
      "connection.commit()"
     ], 
     "language": "python", 
     "outputs": [], 
     "prompt_number": 4
    }, 
    {
     "cell_type": "code", 
     "collapsed": true, 
     "input": [
      "#insert the election data", 
      "elections = [(\"2012 Republican Nominee\", \"09/27/12\", \"http://www.intrade.com/v4/markets/assets/rest/contractsInEvent.json?eventId=84328\"), ", 
      "    (\"2012 Presidential Election\", \"11/6/12\", \"http://www.intrade.com/v4/markets/assets/rest/contractsInEvent.json?eventId=84326\"), ", 
      "    (\"2012 Republican Vice-Presidential Nominee\", \"09/27/12\", \"http://www.intrade.com/v4/markets/assets/rest/contractsInEvent.json?eventId=90482\")]", 
      "for election in elections:", 
      "    sql_cmd = (\"INSERT INTO races (race, date, url) VALUES \" + str(election))", 
      "    cursor.execute(sql_cmd)", 
      "connection.commit()"
     ], 
     "language": "python", 
     "outputs": [], 
     "prompt_number": 5
    }, 
    {
     "cell_type": "code", 
     "collapsed": false, 
     "input": [
      "#download all of the prediction data from intrate", 
      "", 
      "#get the races", 
      "sql_cmd = \"SELECT * FROM races\"", 
      "cursor.execute(sql_cmd)", 
      "db_info = cursor.fetchall()", 
      "", 
      "#loop through the races", 
      "for entry in db_info:", 
      "    race = entry[0]", 
      "    entryURL = entry[2]", 
      "    ", 
      "    #load the page corresponding to the event", 
      "    result = json.load(urllib2.urlopen(entryURL))", 
      "    ", 
      "    #for each candidate, download the prediction data", 
      "    for contract in result['baseResponse']['contracts']:", 
      "        #id of the cotract", 
      "        contractID = contract['contractId']", 
      "        dataURL = 'https://data.intrade.com/graphing/jsp/downloadClosingPrice.jsp?contractId='+str(contractID)", 
      "        ", 
      "        #get the candidate name", 
      "        name = contract['name'].split('to be')[0].strip()", 
      "        ", 
      "        #fetch the data", 
      "        response = urllib2.urlopen(dataURL)", 
      "        html = response.read()", 
      "        response.close()", 
      "        ", 
      "        #use the csv reader to parse the data", 
      "        reader = csv.reader(html.split('\\n'), skipinitialspace=True)", 
      "        ", 
      "        #check to see if the candidate is listed in the candidate table. ", 
      "        #if not, insert the candidate", 
      "        query = \"SELECT name FROM candidates WHERE name = '\"+name+\"'\"", 
      "        print query", 
      "        cursor.execute(query)", 
      "        db_info = cursor.fetchall()", 
      "        if len(db_info) < 1:", 
      "            query = \"INSERT INTO candidates (name) VALUES ('\"+name+\"')\"", 
      "            print query", 
      "            cursor.execute(query)", 
      "        ", 
      "        #for each line in the csv file, extract the data and add it to the prediction table", 
      "        for n, line in enumerate(reader):", 
      "            if n>0 and len(line) > 0:", 
      "                date = line[0]", 
      "                op = line[1]", 
      "                low = line[2]", 
      "                high = line[3]", 
      "                close = line[4]", 
      "                volume = line[5]", 
      "       ", 
      "                query = 'INSERT INTO predictions (date, price, volume, candidate, race) VALUES '+str((date, close, volume, name, race)).replace(\"u'\", \"'\")", 
      "                cursor.execute(query)", 
      "connection.commit()"
     ], 
     "language": "python", 
     "outputs": [
      {
       "output_type": "stream", 
       "stream": "stdout", 
       "text": [
        "SELECT name FROM candidates WHERE name = &apos;Mitt Romney&apos;", 
        "INSERT INTO candidates (name) VALUES (&apos;Mitt Romney&apos;)", 
        "SELECT name FROM candidates WHERE name = &apos;Rick Santorum&apos;"
       ]
      }, 
      {
       "output_type": "stream", 
       "stream": "stdout", 
       "text": [
        "", 
        "INSERT INTO candidates (name) VALUES (&apos;Rick Santorum&apos;)", 
        "SELECT name FROM candidates WHERE name = &apos;Newt Gingrich&apos;"
       ]
      }, 
      {
       "output_type": "stream", 
       "stream": "stdout", 
       "text": [
        "", 
        "INSERT INTO candidates (name) VALUES (&apos;Newt Gingrich&apos;)", 
        "SELECT name FROM candidates WHERE name = &apos;Jeb Bush&apos;"
       ]
      }, 
      {
       "output_type": "stream", 
       "stream": "stdout", 
       "text": [
        "", 
        "INSERT INTO candidates (name) VALUES (&apos;Jeb Bush&apos;)", 
        "SELECT name FROM candidates WHERE name = &apos;Ron Paul&apos;"
       ]
      }, 
      {
       "output_type": "stream", 
       "stream": "stdout", 
       "text": [
        "", 
        "INSERT INTO candidates (name) VALUES (&apos;Ron Paul&apos;)", 
        "SELECT name FROM candidates WHERE name = &apos;Chris Christie&apos;"
       ]
      }, 
      {
       "output_type": "stream", 
       "stream": "stdout", 
       "text": [
        "", 
        "INSERT INTO candidates (name) VALUES (&apos;Chris Christie&apos;)", 
        "SELECT name FROM candidates WHERE name = &apos;Sarah Palin&apos;"
       ]
      }, 
      {
       "output_type": "stream", 
       "stream": "stdout", 
       "text": [
        "", 
        "INSERT INTO candidates (name) VALUES (&apos;Sarah Palin&apos;)", 
        "SELECT name FROM candidates WHERE name = &apos;Mitch Daniels&apos;"
       ]
      }, 
      {
       "output_type": "stream", 
       "stream": "stdout", 
       "text": [
        "", 
        "INSERT INTO candidates (name) VALUES (&apos;Mitch Daniels&apos;)", 
        "SELECT name FROM candidates WHERE name = &apos;Mike Huckabee&apos;"
       ]
      }, 
      {
       "output_type": "stream", 
       "stream": "stdout", 
       "text": [
        "", 
        "INSERT INTO candidates (name) VALUES (&apos;Mike Huckabee&apos;)", 
        "SELECT name FROM candidates WHERE name = &apos;Paul Ryan&apos;"
       ]
      }, 
      {
       "output_type": "stream", 
       "stream": "stdout", 
       "text": [
        "", 
        "INSERT INTO candidates (name) VALUES (&apos;Paul Ryan&apos;)", 
        "SELECT name FROM candidates WHERE name = &apos;Marco Rubio&apos;"
       ]
      }, 
      {
       "output_type": "stream", 
       "stream": "stdout", 
       "text": [
        "", 
        "INSERT INTO candidates (name) VALUES (&apos;Marco Rubio&apos;)", 
        "SELECT name FROM candidates WHERE name = &apos;Colin Powell&apos;"
       ]
      }, 
      {
       "output_type": "stream", 
       "stream": "stdout", 
       "text": [
        "", 
        "INSERT INTO candidates (name) VALUES (&apos;Colin Powell&apos;)", 
        "SELECT name FROM candidates WHERE name = &apos;John Thune&apos;"
       ]
      }, 
      {
       "output_type": "stream", 
       "stream": "stdout", 
       "text": [
        "", 
        "INSERT INTO candidates (name) VALUES (&apos;John Thune&apos;)", 
        "SELECT name FROM candidates WHERE name = &apos;Bobby Jindal&apos;"
       ]
      }, 
      {
       "output_type": "stream", 
       "stream": "stdout", 
       "text": [
        "", 
        "INSERT INTO candidates (name) VALUES (&apos;Bobby Jindal&apos;)", 
        "SELECT name FROM candidates WHERE name = &apos;David Petraeus&apos;"
       ]
      }, 
      {
       "output_type": "stream", 
       "stream": "stdout", 
       "text": [
        "", 
        "INSERT INTO candidates (name) VALUES (&apos;David Petraeus&apos;)", 
        "SELECT name FROM candidates WHERE name = &apos;Rudy Giuliani&apos;"
       ]
      }, 
      {
       "output_type": "stream", 
       "stream": "stdout", 
       "text": [
        "", 
        "INSERT INTO candidates (name) VALUES (&apos;Rudy Giuliani&apos;)", 
        "SELECT name FROM candidates WHERE name = &apos;Jim DeMint&apos;"
       ]
      }, 
      {
       "output_type": "stream", 
       "stream": "stdout", 
       "text": [
        "", 
        "INSERT INTO candidates (name) VALUES (&apos;Jim DeMint&apos;)", 
        "SELECT name FROM candidates WHERE name = &apos;Tim Pawlenty&apos;"
       ]
      }, 
      {
       "output_type": "stream", 
       "stream": "stdout", 
       "text": [
        "", 
        "INSERT INTO candidates (name) VALUES (&apos;Tim Pawlenty&apos;)", 
        "SELECT name FROM candidates WHERE name = &apos;Rick Perry&apos;"
       ]
      }, 
      {
       "output_type": "stream", 
       "stream": "stdout", 
       "text": [
        "", 
        "INSERT INTO candidates (name) VALUES (&apos;Rick Perry&apos;)", 
        "SELECT name FROM candidates WHERE name = &apos;Jon Huntsman&apos;"
       ]
      }, 
      {
       "output_type": "stream", 
       "stream": "stdout", 
       "text": [
        "", 
        "INSERT INTO candidates (name) VALUES (&apos;Jon Huntsman&apos;)", 
        "SELECT name FROM candidates WHERE name = &apos;Buddy Roemer&apos;"
       ]
      }, 
      {
       "output_type": "stream", 
       "stream": "stdout", 
       "text": [
        "", 
        "INSERT INTO candidates (name) VALUES (&apos;Buddy Roemer&apos;)", 
        "SELECT name FROM candidates WHERE name = &apos;Michele Bachmann&apos;"
       ]
      }, 
      {
       "output_type": "stream", 
       "stream": "stdout", 
       "text": [
        "", 
        "INSERT INTO candidates (name) VALUES (&apos;Michele Bachmann&apos;)", 
        "SELECT name FROM candidates WHERE name = &apos;Herman Cain&apos;"
       ]
      }, 
      {
       "output_type": "stream", 
       "stream": "stdout", 
       "text": [
        "", 
        "INSERT INTO candidates (name) VALUES (&apos;Herman Cain&apos;)", 
        "SELECT name FROM candidates WHERE name = &apos;Gary Johnson&apos;"
       ]
      }, 
      {
       "output_type": "stream", 
       "stream": "stdout", 
       "text": [
        "", 
        "INSERT INTO candidates (name) VALUES (&apos;Gary Johnson&apos;)", 
        "SELECT name FROM candidates WHERE name = &apos;Tom Coburn&apos;"
       ]
      }, 
      {
       "output_type": "stream", 
       "stream": "stdout", 
       "text": [
        "", 
        "INSERT INTO candidates (name) VALUES (&apos;Tom Coburn&apos;)", 
        "SELECT name FROM candidates WHERE name = &apos;John Bolton&apos;"
       ]
      }, 
      {
       "output_type": "stream", 
       "stream": "stdout", 
       "text": [
        "", 
        "INSERT INTO candidates (name) VALUES (&apos;John Bolton&apos;)", 
        "SELECT name FROM candidates WHERE name = &apos;George Pataki&apos;"
       ]
      }, 
      {
       "output_type": "stream", 
       "stream": "stdout", 
       "text": [
        "", 
        "INSERT INTO candidates (name) VALUES (&apos;George Pataki&apos;)", 
        "SELECT name FROM candidates WHERE name = &apos;Thad McCotter&apos;"
       ]
      }, 
      {
       "output_type": "stream", 
       "stream": "stdout", 
       "text": [
        "", 
        "INSERT INTO candidates (name) VALUES (&apos;Thad McCotter&apos;)", 
        "SELECT name FROM candidates WHERE name = &apos;Rand Paul&apos;"
       ]
      }, 
      {
       "output_type": "stream", 
       "stream": "stdout", 
       "text": [
        "", 
        "INSERT INTO candidates (name) VALUES (&apos;Rand Paul&apos;)", 
        "SELECT name FROM candidates WHERE name = &apos;Donald Trump&apos;"
       ]
      }, 
      {
       "output_type": "stream", 
       "stream": "stdout", 
       "text": [
        "", 
        "INSERT INTO candidates (name) VALUES (&apos;Donald Trump&apos;)", 
        "SELECT name FROM candidates WHERE name = &apos;Eric Cantor&apos;"
       ]
      }, 
      {
       "output_type": "stream", 
       "stream": "stdout", 
       "text": [
        "", 
        "INSERT INTO candidates (name) VALUES (&apos;Eric Cantor&apos;)", 
        "SELECT name FROM candidates WHERE name = &apos;Joe Scarborough&apos;"
       ]
      }, 
      {
       "output_type": "stream", 
       "stream": "stdout", 
       "text": [
        "", 
        "INSERT INTO candidates (name) VALUES (&apos;Joe Scarborough&apos;)", 
        "SELECT name FROM candidates WHERE name = &apos;Lindsay Graham&apos;"
       ]
      }, 
      {
       "output_type": "stream", 
       "stream": "stdout", 
       "text": [
        "", 
        "INSERT INTO candidates (name) VALUES (&apos;Lindsay Graham&apos;)", 
        "SELECT name FROM candidates WHERE name = &apos;Roy Moore&apos;"
       ]
      }, 
      {
       "output_type": "stream", 
       "stream": "stdout", 
       "text": [
        "", 
        "INSERT INTO candidates (name) VALUES (&apos;Roy Moore&apos;)", 
        "SELECT name FROM candidates WHERE name = &apos;Mike Pence&apos;"
       ]
      }, 
      {
       "output_type": "stream", 
       "stream": "stdout", 
       "text": [
        "", 
        "INSERT INTO candidates (name) VALUES (&apos;Mike Pence&apos;)", 
        "SELECT name FROM candidates WHERE name = &apos;Haley Barbour&apos;"
       ]
      }, 
      {
       "output_type": "stream", 
       "stream": "stdout", 
       "text": [
        "", 
        "INSERT INTO candidates (name) VALUES (&apos;Haley Barbour&apos;)", 
        "SELECT name FROM candidates WHERE name = &apos;Dick Cheney&apos;"
       ]
      }, 
      {
       "output_type": "stream", 
       "stream": "stdout", 
       "text": [
        "", 
        "INSERT INTO candidates (name) VALUES (&apos;Dick Cheney&apos;)", 
        "SELECT name FROM candidates WHERE name = &apos;Judd Gregg&apos;"
       ]
      }, 
      {
       "output_type": "stream", 
       "stream": "stdout", 
       "text": [
        "", 
        "INSERT INTO candidates (name) VALUES (&apos;Judd Gregg&apos;)", 
        "SELECT name FROM candidates WHERE name = &apos;Scott Brown&apos;"
       ]
      }, 
      {
       "output_type": "stream", 
       "stream": "stdout", 
       "text": [
        "", 
        "INSERT INTO candidates (name) VALUES (&apos;Scott Brown&apos;)", 
        "SELECT name FROM candidates WHERE name = &apos;Michael Bloomberg&apos;"
       ]
      }, 
      {
       "output_type": "stream", 
       "stream": "stdout", 
       "text": [
        "", 
        "INSERT INTO candidates (name) VALUES (&apos;Michael Bloomberg&apos;)", 
        "SELECT name FROM candidates WHERE name = &apos;Charlie Crist&apos;"
       ]
      }, 
      {
       "output_type": "stream", 
       "stream": "stdout", 
       "text": [
        "", 
        "INSERT INTO candidates (name) VALUES (&apos;Charlie Crist&apos;)", 
        "SELECT name FROM candidates WHERE name = &apos;Fred Thompson&apos;"
       ]
      }, 
      {
       "output_type": "stream", 
       "stream": "stdout", 
       "text": [
        "", 
        "INSERT INTO candidates (name) VALUES (&apos;Fred Thompson&apos;)", 
        "SELECT name FROM candidates WHERE name = &apos;John Kasich&apos;"
       ]
      }, 
      {
       "output_type": "stream", 
       "stream": "stdout", 
       "text": [
        "", 
        "INSERT INTO candidates (name) VALUES (&apos;John Kasich&apos;)", 
        "SELECT name FROM candidates WHERE name = &apos;Bob Corker&apos;"
       ]
      }, 
      {
       "output_type": "stream", 
       "stream": "stdout", 
       "text": [
        "", 
        "INSERT INTO candidates (name) VALUES (&apos;Bob Corker&apos;)", 
        "SELECT name FROM candidates WHERE name = &apos;Joe Lieberman&apos;"
       ]
      }, 
      {
       "output_type": "stream", 
       "stream": "stdout", 
       "text": [
        "", 
        "INSERT INTO candidates (name) VALUES (&apos;Joe Lieberman&apos;)", 
        "SELECT name FROM candidates WHERE name = &apos;Lou Dobbs&apos;"
       ]
      }, 
      {
       "output_type": "stream", 
       "stream": "stdout", 
       "text": [
        "", 
        "INSERT INTO candidates (name) VALUES (&apos;Lou Dobbs&apos;)", 
        "SELECT name FROM candidates WHERE name = &apos;Mark Sanford&apos;"
       ]
      }, 
      {
       "output_type": "stream", 
       "stream": "stdout", 
       "text": [
        "", 
        "INSERT INTO candidates (name) VALUES (&apos;Mark Sanford&apos;)", 
        "SELECT name FROM candidates WHERE name = &apos;Carly Fiorina&apos;"
       ]
      }, 
      {
       "output_type": "stream", 
       "stream": "stdout", 
       "text": [
        "", 
        "INSERT INTO candidates (name) VALUES (&apos;Carly Fiorina&apos;)", 
        "SELECT name FROM candidates WHERE name = &apos;Meg Whitman&apos;"
       ]
      }, 
      {
       "output_type": "stream", 
       "stream": "stdout", 
       "text": [
        "", 
        "INSERT INTO candidates (name) VALUES (&apos;Meg Whitman&apos;)", 
        "SELECT name FROM candidates WHERE name = &apos;Stanley McChrystal&apos;"
       ]
      }, 
      {
       "output_type": "stream", 
       "stream": "stdout", 
       "text": [
        "", 
        "INSERT INTO candidates (name) VALUES (&apos;Stanley McChrystal&apos;)", 
        "SELECT name FROM candidates WHERE name = &apos;Clarence Thomas&apos;"
       ]
      }, 
      {
       "output_type": "stream", 
       "stream": "stdout", 
       "text": [
        "", 
        "INSERT INTO candidates (name) VALUES (&apos;Clarence Thomas&apos;)", 
        "SELECT name FROM candidates WHERE name = &apos;Allen West&apos;"
       ]
      }, 
      {
       "output_type": "stream", 
       "stream": "stdout", 
       "text": [
        "", 
        "INSERT INTO candidates (name) VALUES (&apos;Allen West&apos;)", 
        "SELECT name FROM candidates WHERE name = &apos;Any other individual&apos;"
       ]
      }, 
      {
       "output_type": "stream", 
       "stream": "stdout", 
       "text": [
        "", 
        "INSERT INTO candidates (name) VALUES (&apos;Any other individual&apos;)", 
        "SELECT name FROM candidates WHERE name = &apos;Barack Obama&apos;"
       ]
      }, 
      {
       "output_type": "stream", 
       "stream": "stdout", 
       "text": [
        "", 
        "INSERT INTO candidates (name) VALUES (&apos;Barack Obama&apos;)", 
        "SELECT name FROM candidates WHERE name = &apos;Mitt Romney&apos;"
       ]
      }, 
      {
       "output_type": "stream", 
       "stream": "stdout", 
       "text": [
        "", 
        "SELECT name FROM candidates WHERE name = &apos;Rick Santorum&apos;"
       ]
      }, 
      {
       "output_type": "stream", 
       "stream": "stdout", 
       "text": [
        "", 
        "SELECT name FROM candidates WHERE name = &apos;Newt Gingrich&apos;"
       ]
      }, 
      {
       "output_type": "stream", 
       "stream": "stdout", 
       "text": [
        "", 
        "SELECT name FROM candidates WHERE name = &apos;Ron Paul&apos;"
       ]
      }, 
      {
       "output_type": "stream", 
       "stream": "stdout", 
       "text": [
        "", 
        "SELECT name FROM candidates WHERE name = &apos;Hillary Clinton&apos;"
       ]
      }, 
      {
       "output_type": "stream", 
       "stream": "stdout", 
       "text": [
        "", 
        "INSERT INTO candidates (name) VALUES (&apos;Hillary Clinton&apos;)", 
        "SELECT name FROM candidates WHERE name = &apos;Sarah Palin&apos;"
       ]
      }, 
      {
       "output_type": "stream", 
       "stream": "stdout", 
       "text": [
        "", 
        "SELECT name FROM candidates WHERE name = &apos;Gary Johnson&apos;"
       ]
      }, 
      {
       "output_type": "stream", 
       "stream": "stdout", 
       "text": [
        "", 
        "SELECT name FROM candidates WHERE name = &apos;Chris Christie&apos;"
       ]
      }, 
      {
       "output_type": "stream", 
       "stream": "stdout", 
       "text": [
        "", 
        "SELECT name FROM candidates WHERE name = &apos;Mike Huckabee&apos;"
       ]
      }, 
      {
       "output_type": "stream", 
       "stream": "stdout", 
       "text": [
        "", 
        "SELECT name FROM candidates WHERE name = &apos;Mitch Daniels&apos;"
       ]
      }, 
      {
       "output_type": "stream", 
       "stream": "stdout", 
       "text": [
        "", 
        "SELECT name FROM candidates WHERE name = &apos;Michael Bloomberg&apos;"
       ]
      }, 
      {
       "output_type": "stream", 
       "stream": "stdout", 
       "text": [
        "", 
        "SELECT name FROM candidates WHERE name = &apos;Joe Biden&apos;"
       ]
      }, 
      {
       "output_type": "stream", 
       "stream": "stdout", 
       "text": [
        "", 
        "INSERT INTO candidates (name) VALUES (&apos;Joe Biden&apos;)", 
        "SELECT name FROM candidates WHERE name = &apos;Donald Trump&apos;"
       ]
      }, 
      {
       "output_type": "stream", 
       "stream": "stdout", 
       "text": [
        "", 
        "SELECT name FROM candidates WHERE name = &apos;Jon Huntsman Jr&apos;"
       ]
      }, 
      {
       "output_type": "stream", 
       "stream": "stdout", 
       "text": [
        "", 
        "INSERT INTO candidates (name) VALUES (&apos;Jon Huntsman Jr&apos;)", 
        "SELECT name FROM candidates WHERE name = &apos;John Thune&apos;"
       ]
      }, 
      {
       "output_type": "stream", 
       "stream": "stdout", 
       "text": [
        "", 
        "SELECT name FROM candidates WHERE name = &apos;Herman Cain&apos;"
       ]
      }, 
      {
       "output_type": "stream", 
       "stream": "stdout", 
       "text": [
        "", 
        "SELECT name FROM candidates WHERE name = &apos;Rick Perry&apos;"
       ]
      }, 
      {
       "output_type": "stream", 
       "stream": "stdout", 
       "text": [
        "", 
        "SELECT name FROM candidates WHERE name = &apos;Michele Bachmann&apos;"
       ]
      }, 
      {
       "output_type": "stream", 
       "stream": "stdout", 
       "text": [
        "", 
        "SELECT name FROM candidates WHERE name = &apos;Haley Barbour&apos;"
       ]
      }, 
      {
       "output_type": "stream", 
       "stream": "stdout", 
       "text": [
        "", 
        "SELECT name FROM candidates WHERE name = &apos;Tim Pawlenty&apos;"
       ]
      }, 
      {
       "output_type": "stream", 
       "stream": "stdout", 
       "text": [
        "", 
        "SELECT name FROM candidates WHERE name = &apos;Any other individual&apos;"
       ]
      }, 
      {
       "output_type": "stream", 
       "stream": "stdout", 
       "text": [
        "", 
        "SELECT name FROM candidates WHERE name = &apos;Marco Rubio&apos;"
       ]
      }, 
      {
       "output_type": "stream", 
       "stream": "stdout", 
       "text": [
        "", 
        "SELECT name FROM candidates WHERE name = &apos;Chris Christie&apos;"
       ]
      }, 
      {
       "output_type": "stream", 
       "stream": "stdout", 
       "text": [
        "", 
        "SELECT name FROM candidates WHERE name = &apos;Bob McDonnell&apos;"
       ]
      }, 
      {
       "output_type": "stream", 
       "stream": "stdout", 
       "text": [
        "", 
        "INSERT INTO candidates (name) VALUES (&apos;Bob McDonnell&apos;)", 
        "SELECT name FROM candidates WHERE name = &apos;Susana Martinez&apos;"
       ]
      }, 
      {
       "output_type": "stream", 
       "stream": "stdout", 
       "text": [
        "", 
        "INSERT INTO candidates (name) VALUES (&apos;Susana Martinez&apos;)", 
        "SELECT name FROM candidates WHERE name = &apos;Rick Santorum&apos;"
       ]
      }, 
      {
       "output_type": "stream", 
       "stream": "stdout", 
       "text": [
        "", 
        "SELECT name FROM candidates WHERE name = &apos;Rand Paul&apos;"
       ]
      }, 
      {
       "output_type": "stream", 
       "stream": "stdout", 
       "text": [
        "", 
        "SELECT name FROM candidates WHERE name = &apos;Paul Ryan&apos;"
       ]
      }, 
      {
       "output_type": "stream", 
       "stream": "stdout", 
       "text": [
        "", 
        "SELECT name FROM candidates WHERE name = &apos;John Thune&apos;"
       ]
      }, 
      {
       "output_type": "stream", 
       "stream": "stdout", 
       "text": [
        "", 
        "SELECT name FROM candidates WHERE name = &apos;Rob Portman&apos;"
       ]
      }, 
      {
       "output_type": "stream", 
       "stream": "stdout", 
       "text": [
        "", 
        "INSERT INTO candidates (name) VALUES (&apos;Rob Portman&apos;)", 
        "SELECT name FROM candidates WHERE name = &apos;Mitch Daniels&apos;"
       ]
      }, 
      {
       "output_type": "stream", 
       "stream": "stdout", 
       "text": [
        "", 
        "SELECT name FROM candidates WHERE name = &apos;Ron Paul&apos;"
       ]
      }, 
      {
       "output_type": "stream", 
       "stream": "stdout", 
       "text": [
        "", 
        "SELECT name FROM candidates WHERE name = &apos;Newt Gingrich&apos;"
       ]
      }, 
      {
       "output_type": "stream", 
       "stream": "stdout", 
       "text": [
        "", 
        "SELECT name FROM candidates WHERE name = &apos;Mike Huckabee&apos;"
       ]
      }, 
      {
       "output_type": "stream", 
       "stream": "stdout", 
       "text": [
        "", 
        "SELECT name FROM candidates WHERE name = &apos;Condoleezza Rice&apos;"
       ]
      }, 
      {
       "output_type": "stream", 
       "stream": "stdout", 
       "text": [
        "", 
        "INSERT INTO candidates (name) VALUES (&apos;Condoleezza Rice&apos;)", 
        "SELECT name FROM candidates WHERE name = &apos;Bobby Jindal&apos;"
       ]
      }, 
      {
       "output_type": "stream", 
       "stream": "stdout", 
       "text": [
        "", 
        "SELECT name FROM candidates WHERE name = &apos;Brian Sandoval&apos;"
       ]
      }, 
      {
       "output_type": "stream", 
       "stream": "stdout", 
       "text": [
        "", 
        "INSERT INTO candidates (name) VALUES (&apos;Brian Sandoval&apos;)", 
        "SELECT name FROM candidates WHERE name = &apos;Cathy McMorris Rodgers&apos;"
       ]
      }, 
      {
       "output_type": "stream", 
       "stream": "stdout", 
       "text": [
        "", 
        "INSERT INTO candidates (name) VALUES (&apos;Cathy McMorris Rodgers&apos;)", 
        "SELECT name FROM candidates WHERE name = &apos;Nikki Haley&apos;"
       ]
      }, 
      {
       "output_type": "stream", 
       "stream": "stdout", 
       "text": [
        "", 
        "INSERT INTO candidates (name) VALUES (&apos;Nikki Haley&apos;)", 
        "SELECT name FROM candidates WHERE name = &apos;Jeb Bush&apos;"
       ]
      }, 
      {
       "output_type": "stream", 
       "stream": "stdout", 
       "text": [
        "", 
        "SELECT name FROM candidates WHERE name = &apos;Tim Pawlenty&apos;"
       ]
      }, 
      {
       "output_type": "stream", 
       "stream": "stdout", 
       "text": [
        "", 
        "SELECT name FROM candidates WHERE name = &apos;Allen West&apos;"
       ]
      }, 
      {
       "output_type": "stream", 
       "stream": "stdout", 
       "text": [
        "", 
        "SELECT name FROM candidates WHERE name = &apos;Jim DeMint&apos;"
       ]
      }, 
      {
       "output_type": "stream", 
       "stream": "stdout", 
       "text": [
        "", 
        "SELECT name FROM candidates WHERE name = &apos;Kelly Ayotte&apos;"
       ]
      }, 
      {
       "output_type": "stream", 
       "stream": "stdout", 
       "text": [
        "", 
        "INSERT INTO candidates (name) VALUES (&apos;Kelly Ayotte&apos;)", 
        "SELECT name FROM candidates WHERE name = &apos;Luis Fortuno&apos;"
       ]
      }, 
      {
       "output_type": "stream", 
       "stream": "stdout", 
       "text": [
        "", 
        "INSERT INTO candidates (name) VALUES (&apos;Luis Fortuno&apos;)", 
        "SELECT name FROM candidates WHERE name = &apos;David Petraeus&apos;"
       ]
      }, 
      {
       "output_type": "stream", 
       "stream": "stdout", 
       "text": [
        "", 
        "SELECT name FROM candidates WHERE name = &apos;Pat Toomey&apos;"
       ]
      }, 
      {
       "output_type": "stream", 
       "stream": "stdout", 
       "text": [
        "", 
        "INSERT INTO candidates (name) VALUES (&apos;Pat Toomey&apos;)", 
        "SELECT name FROM candidates WHERE name = &apos;Jon Huntsman&apos;"
       ]
      }, 
      {
       "output_type": "stream", 
       "stream": "stdout", 
       "text": [
        "", 
        "SELECT name FROM candidates WHERE name = &apos;Michele Bachmann&apos;"
       ]
      }, 
      {
       "output_type": "stream", 
       "stream": "stdout", 
       "text": [
        "", 
        "SELECT name FROM candidates WHERE name = &apos;Meg Whitman&apos;"
       ]
      }, 
      {
       "output_type": "stream", 
       "stream": "stdout", 
       "text": [
        "", 
        "SELECT name FROM candidates WHERE name = &apos;Mitt Romney&apos;"
       ]
      }, 
      {
       "output_type": "stream", 
       "stream": "stdout", 
       "text": [
        "", 
        "SELECT name FROM candidates WHERE name = &apos;John Kasich&apos;"
       ]
      }, 
      {
       "output_type": "stream", 
       "stream": "stdout", 
       "text": [
        "", 
        "SELECT name FROM candidates WHERE name = &apos;Sarah Palin&apos;"
       ]
      }, 
      {
       "output_type": "stream", 
       "stream": "stdout", 
       "text": [
        "", 
        "SELECT name FROM candidates WHERE name = &apos;Mike Pence&apos;"
       ]
      }, 
      {
       "output_type": "stream", 
       "stream": "stdout", 
       "text": [
        "", 
        "SELECT name FROM candidates WHERE name = &apos;Eric Cantor&apos;"
       ]
      }, 
      {
       "output_type": "stream", 
       "stream": "stdout", 
       "text": [
        "", 
        "SELECT name FROM candidates WHERE name = &apos;JC Watts&apos;"
       ]
      }, 
      {
       "output_type": "stream", 
       "stream": "stdout", 
       "text": [
        "", 
        "INSERT INTO candidates (name) VALUES (&apos;JC Watts&apos;)", 
        "SELECT name FROM candidates WHERE name = &apos;Judd Gregg&apos;"
       ]
      }, 
      {
       "output_type": "stream", 
       "stream": "stdout", 
       "text": [
        "", 
        "SELECT name FROM candidates WHERE name = &apos;Stanley McChrystal&apos;"
       ]
      }, 
      {
       "output_type": "stream", 
       "stream": "stdout", 
       "text": [
        "", 
        "SELECT name FROM candidates WHERE name = &apos;Gary Johnson&apos;"
       ]
      }, 
      {
       "output_type": "stream", 
       "stream": "stdout", 
       "text": [
        "", 
        "SELECT name FROM candidates WHERE name = &apos;Michael Bloomberg&apos;"
       ]
      }, 
      {
       "output_type": "stream", 
       "stream": "stdout", 
       "text": [
        "", 
        "SELECT name FROM candidates WHERE name = &apos;Rudy Giuliani&apos;"
       ]
      }, 
      {
       "output_type": "stream", 
       "stream": "stdout", 
       "text": [
        "", 
        "SELECT name FROM candidates WHERE name = &apos;George Pataki&apos;"
       ]
      }, 
      {
       "output_type": "stream", 
       "stream": "stdout", 
       "text": [
        "", 
        "SELECT name FROM candidates WHERE name = &apos;Scott Brown&apos;"
       ]
      }, 
      {
       "output_type": "stream", 
       "stream": "stdout", 
       "text": [
        "", 
        "SELECT name FROM candidates WHERE name = &apos;Rick Perry&apos;"
       ]
      }, 
      {
       "output_type": "stream", 
       "stream": "stdout", 
       "text": [
        "", 
        "SELECT name FROM candidates WHERE name = &apos;Haley Barbour&apos;"
       ]
      }, 
      {
       "output_type": "stream", 
       "stream": "stdout", 
       "text": [
        "", 
        "SELECT name FROM candidates WHERE name = &apos;John Bolton&apos;"
       ]
      }, 
      {
       "output_type": "stream", 
       "stream": "stdout", 
       "text": [
        "", 
        "SELECT name FROM candidates WHERE name = &apos;Dave Heineman&apos;"
       ]
      }, 
      {
       "output_type": "stream", 
       "stream": "stdout", 
       "text": [
        "", 
        "INSERT INTO candidates (name) VALUES (&apos;Dave Heineman&apos;)", 
        "SELECT name FROM candidates WHERE name = &apos;Carly Fiorina&apos;"
       ]
      }, 
      {
       "output_type": "stream", 
       "stream": "stdout", 
       "text": [
        "", 
        "SELECT name FROM candidates WHERE name = &apos;Donald Trump&apos;"
       ]
      }, 
      {
       "output_type": "stream", 
       "stream": "stdout", 
       "text": [
        "", 
        "SELECT name FROM candidates WHERE name = &apos;Bill McCollum&apos;"
       ]
      }, 
      {
       "output_type": "stream", 
       "stream": "stdout", 
       "text": [
        "", 
        "INSERT INTO candidates (name) VALUES (&apos;Bill McCollum&apos;)", 
        "SELECT name FROM candidates WHERE name = &apos;John Boehner&apos;"
       ]
      }, 
      {
       "output_type": "stream", 
       "stream": "stdout", 
       "text": [
        "", 
        "INSERT INTO candidates (name) VALUES (&apos;John Boehner&apos;)", 
        "SELECT name FROM candidates WHERE name = &apos;Herman Cain&apos;"
       ]
      }, 
      {
       "output_type": "stream", 
       "stream": "stdout", 
       "text": [
        "", 
        "SELECT name FROM candidates WHERE name = &apos;Buddy Roemer&apos;"
       ]
      }, 
      {
       "output_type": "stream", 
       "stream": "stdout", 
       "text": [
        "", 
        "SELECT name FROM candidates WHERE name = &apos;Jon Kyl&apos;"
       ]
      }, 
      {
       "output_type": "stream", 
       "stream": "stdout", 
       "text": [
        "", 
        "INSERT INTO candidates (name) VALUES (&apos;Jon Kyl&apos;)"
       ]
      }
     ], 
     "prompt_number": 6
    }, 
    {
     "cell_type": "code", 
     "collapsed": false, 
     "input": [
      "#download the biographical data for each of the candidates", 
      "", 
      "#get all of the candidate names", 
      "query = '''SELECT name FROM candidates'''", 
      "cursor.execute(query)", 
      "result = cursor.fetchall()", 
      "", 
      "#loop through the candidates", 
      "for row in result:", 
      "    name = row[0]", 
      "    formattedName = name.replace(' ', '_')", 
      "    ", 
      "    #hard-coded information telling the code what page to go to based on candidate name", 
      "    if formattedName.lower().find('jon_huntsman')>-1: formattedName = 'Jon_Huntsman,_Jr.'", 
      "    if formattedName.lower().find('bolton')>-1: formattedName = 'John_R._Bolton'", 
      "    if formattedName.lower().find('allen_west')>-1: formattedName = 'Allen_West_(politician)'", 
      "        ", 
      "    #get the url for the wikipedia page", 
      "    wikiURL = 'http://en.wikipedia.org/w/index.php?title='+formattedName+'&printable=yes'", 
      "    print wikiURL", 
      "    ", 
      "    #try to open the wikipedia page.", 
      "    try:", 
      "        opener = urllib2.build_opener()", 
      "        opener.addheaders = [('User-agent', 'Mozilla/5.0')]", 
      "        infile = opener.open(wikiURL)", 
      "        page = infile.read()", 
      "    #no page exists (the all other candidates case)", 
      "    except:", 
      "        page = \"<html></html>\"", 
      "        ", 
      "    #parse the page with beautiful soup", 
      "    soup = BeautifulSoup(page)", 
      "    ", 
      "    #find the info table that contains candidate information", 
      "    infoTable = soup.findAll('table', {'class':'infobox vcard'})", 
      "    if len(infoTable) == 0:", 
      "        infoTable = soup.findAll('table', {'class':'infobox biography vcard'})", 
      "    ", 
      "    #if there's an infotable, find the first img tag (corresponding to candidate photo)", 
      "    #also find each row in the table", 
      "    if len(infoTable) > 0:", 
      "        img = infoTable[0].findAll('img')", 
      "        if len(img)>0: ", 
      "            img = img[0]", 
      "        else:", 
      "            img=None", 
      "        info = infoTable[0].findAll('tr')", 
      "    #in case there's no table, set everything to be empty", 
      "    else:", 
      "        info = []", 
      "        img = None", 
      "    ", 
      "    #variable corresponding to the information we're looking for", 
      "    date = 'none'", 
      "    party = 'none'", 
      "    residence = u'none'", 
      "    lat = 'none'", 
      "    ", 
      "    #loop through the rows in the info table", 
      "    for row in info:", 
      "        #get the cells containing the labels", 
      "        headers = row.findAll('th')", 
      "        if len(headers) > 0:", 
      "            header = headers[0]", 
      "            #find what information each row contains", 
      "            try:", 
      "                category = str(header.next).lower()", 
      "            except UnicodeEncodeError:", 
      "                category = 'none'", 
      "            ", 
      "            #after finding the label for the information, look for the information itself", 
      "            contents = row.findAll('td')", 
      "            if len(contents)>0:", 
      "                content = contents[0]", 
      "                ", 
      "                #look for the candidate's birthday", 
      "                if category.find('born')>-1:", 
      "                    born = content.getText()", 
      "                    bsplit = born.split('\\n')", 
      "                    if len(bsplit) < 3:", 
      "                        date = bsplit[0]", 
      "                    else: date = bsplit[1]", 
      "                ", 
      "                #look for party affiliation", 
      "                if category.find('party')>-1:", 
      "                    party = content.getText().split('\\n')[0]", 
      "                ", 
      "                #look for place of residence", 
      "                if category.find('residence')>-1:", 
      "                    residence = content.getText().split('\\n')", 
      "                    if len(residence) > 0:", 
      "                        bestGuess = 0", 
      "                        for lnumber, line in enumerate(residence):", 
      "                            if line.find(',') > -1:", 
      "                                bestGuess = lnumber", 
      "                                break", 
      "                        residence = residence[bestGuess]", 
      "                    ", 
      "                    #if the candidate lives in a governor's mansion, find its coordinates via wikipedia", 
      "                    if residence.lower().find('mansion') > -1:", 
      "                        term = content.findAll('a')[0]['href'].split('/')[-1]", 
      "                        opener2 = urllib2.build_opener()", 
      "                        opener2.addheaders = [('User-agent', 'Mozilla/5.0')]", 
      "                        infile2 = opener2.open('http://en.wikipedia.org/w/index.php?title=Louisiana_Governor%27s_Mansion&printable=yes')", 
      "                        page2 = infile2.read()", 
      "                        soup2 = BeautifulSoup(page2)", 
      "                        lat = soup2.findAll('span', {'class':'geo'})[0].getText().split(';')[0]", 
      "    ", 
      "    #clean up the residence listing by removing citations", 
      "    #then get the city and state", 
      "    rsplit = residence.replace('(', '[').split('[')[0]", 
      "    csplit = rsplit.split(',')", 
      "    town = csplit[0].strip()", 
      "    if len(csplit)>1:", 
      "        state = csplit[1].strip()", 
      "    else:", 
      "        state = 'none'", 
      "    ", 
      "    #clean up the birthdate by removing extra information", 
      "    bdate = date.split('(')[0].strip()", 
      "    ", 
      "    #use the yahoo api to get the coordinates of the candidate's home town", 
      "    cleaned = unicodedata.normalize('NFKD', rsplit).encode('ascii','ignore')", 
      "    yahooURL = 'http://where.yahooapis.com/geocode?'+urllib.urlencode({'q':cleaned})+'&appid=xPaSPt56&flags=j'", 
      "    if residence != 'none':", 
      "        result = json.load(urllib2.urlopen(yahooURL))", 
      "        if result['ResultSet']['Found'] > 0:", 
      "            lat = result['ResultSet']['Results'][0]['latitude']", 
      "    ", 
      "    #if we found a picture for the candidate, download it and save it", 
      "    if img != None:", 
      "        src = 'http:'+img['src']", 
      "        imgopener = urllib2.build_opener()", 
      "        imgopener.addheaders = [('User-agent', 'Mozilla/5.0')]", 
      "        imgpage = imgopener.open(src)", 
      "        my_picture = imgpage.read()", 
      "        filename = \"images/\"+(src.split('/')[-1])", 
      "        fout = open(filename, \"wb\")", 
      "        fout.write(my_picture)", 
      "        fout.close()", 
      "    else:", 
      "        filename = 'none'", 
      "    ", 
      "    #insert the information into the database", 
      "    query = \"UPDATE candidates SET hometown = ?, homestate = ?, party = ?, birthdate = ?, picturePath = ?, lat = ? WHERE name = ?\"", 
      "    cursor.execute(query, (town, state, party, bdate, filename, lat, name))", 
      "", 
      "#commit the changes", 
      "connection.commit()"
     ], 
     "language": "python", 
     "outputs": [
      {
       "output_type": "stream", 
       "stream": "stdout", 
       "text": [
        "http://en.wikipedia.org/w/index.php?title=Mitt_Romney&amp;printable=yes", 
        "http://en.wikipedia.org/w/index.php?title=Rick_Santorum&amp;printable=yes"
       ]
      }, 
      {
       "output_type": "stream", 
       "stream": "stdout", 
       "text": [
        "", 
        "http://en.wikipedia.org/w/index.php?title=Newt_Gingrich&amp;printable=yes"
       ]
      }, 
      {
       "output_type": "stream", 
       "stream": "stdout", 
       "text": [
        "", 
        "http://en.wikipedia.org/w/index.php?title=Jeb_Bush&amp;printable=yes"
       ]
      }, 
      {
       "output_type": "stream", 
       "stream": "stdout", 
       "text": [
        "", 
        "http://en.wikipedia.org/w/index.php?title=Ron_Paul&amp;printable=yes"
       ]
      }, 
      {
       "output_type": "stream", 
       "stream": "stdout", 
       "text": [
        "", 
        "http://en.wikipedia.org/w/index.php?title=Chris_Christie&amp;printable=yes"
       ]
      }, 
      {
       "output_type": "stream", 
       "stream": "stdout", 
       "text": [
        "", 
        "http://en.wikipedia.org/w/index.php?title=Sarah_Palin&amp;printable=yes"
       ]
      }, 
      {
       "output_type": "stream", 
       "stream": "stdout", 
       "text": [
        "", 
        "http://en.wikipedia.org/w/index.php?title=Mitch_Daniels&amp;printable=yes"
       ]
      }, 
      {
       "output_type": "stream", 
       "stream": "stdout", 
       "text": [
        "", 
        "http://en.wikipedia.org/w/index.php?title=Mike_Huckabee&amp;printable=yes"
       ]
      }, 
      {
       "output_type": "stream", 
       "stream": "stdout", 
       "text": [
        "", 
        "http://en.wikipedia.org/w/index.php?title=Paul_Ryan&amp;printable=yes"
       ]
      }, 
      {
       "output_type": "stream", 
       "stream": "stdout", 
       "text": [
        "", 
        "http://en.wikipedia.org/w/index.php?title=Marco_Rubio&amp;printable=yes"
       ]
      }, 
      {
       "output_type": "stream", 
       "stream": "stdout", 
       "text": [
        "", 
        "http://en.wikipedia.org/w/index.php?title=Colin_Powell&amp;printable=yes"
       ]
      }, 
      {
       "output_type": "stream", 
       "stream": "stdout", 
       "text": [
        "", 
        "http://en.wikipedia.org/w/index.php?title=John_Thune&amp;printable=yes"
       ]
      }, 
      {
       "output_type": "stream", 
       "stream": "stdout", 
       "text": [
        "", 
        "http://en.wikipedia.org/w/index.php?title=Bobby_Jindal&amp;printable=yes"
       ]
      }, 
      {
       "output_type": "stream", 
       "stream": "stdout", 
       "text": [
        "", 
        "http://en.wikipedia.org/w/index.php?title=David_Petraeus&amp;printable=yes"
       ]
      }, 
      {
       "output_type": "stream", 
       "stream": "stdout", 
       "text": [
        "", 
        "http://en.wikipedia.org/w/index.php?title=Rudy_Giuliani&amp;printable=yes"
       ]
      }, 
      {
       "output_type": "stream", 
       "stream": "stdout", 
       "text": [
        "", 
        "http://en.wikipedia.org/w/index.php?title=Jim_DeMint&amp;printable=yes"
       ]
      }, 
      {
       "output_type": "stream", 
       "stream": "stdout", 
       "text": [
        "", 
        "http://en.wikipedia.org/w/index.php?title=Tim_Pawlenty&amp;printable=yes"
       ]
      }, 
      {
       "output_type": "stream", 
       "stream": "stdout", 
       "text": [
        "", 
        "http://en.wikipedia.org/w/index.php?title=Rick_Perry&amp;printable=yes"
       ]
      }, 
      {
       "output_type": "stream", 
       "stream": "stdout", 
       "text": [
        "", 
        "http://en.wikipedia.org/w/index.php?title=Jon_Huntsman,_Jr.&amp;printable=yes"
       ]
      }, 
      {
       "output_type": "stream", 
       "stream": "stdout", 
       "text": [
        "", 
        "http://en.wikipedia.org/w/index.php?title=Buddy_Roemer&amp;printable=yes"
       ]
      }, 
      {
       "output_type": "stream", 
       "stream": "stdout", 
       "text": [
        "", 
        "http://en.wikipedia.org/w/index.php?title=Michele_Bachmann&amp;printable=yes"
       ]
      }, 
      {
       "output_type": "stream", 
       "stream": "stdout", 
       "text": [
        "", 
        "http://en.wikipedia.org/w/index.php?title=Herman_Cain&amp;printable=yes"
       ]
      }, 
      {
       "output_type": "stream", 
       "stream": "stdout", 
       "text": [
        "", 
        "http://en.wikipedia.org/w/index.php?title=Gary_Johnson&amp;printable=yes"
       ]
      }, 
      {
       "output_type": "stream", 
       "stream": "stdout", 
       "text": [
        "", 
        "http://en.wikipedia.org/w/index.php?title=Tom_Coburn&amp;printable=yes"
       ]
      }, 
      {
       "output_type": "stream", 
       "stream": "stdout", 
       "text": [
        "", 
        "http://en.wikipedia.org/w/index.php?title=John_R._Bolton&amp;printable=yes"
       ]
      }, 
      {
       "output_type": "stream", 
       "stream": "stdout", 
       "text": [
        "", 
        "http://en.wikipedia.org/w/index.php?title=George_Pataki&amp;printable=yes"
       ]
      }, 
      {
       "output_type": "stream", 
       "stream": "stdout", 
       "text": [
        "", 
        "http://en.wikipedia.org/w/index.php?title=Thad_McCotter&amp;printable=yes"
       ]
      }, 
      {
       "output_type": "stream", 
       "stream": "stdout", 
       "text": [
        "", 
        "http://en.wikipedia.org/w/index.php?title=Rand_Paul&amp;printable=yes"
       ]
      }, 
      {
       "output_type": "stream", 
       "stream": "stdout", 
       "text": [
        "", 
        "http://en.wikipedia.org/w/index.php?title=Donald_Trump&amp;printable=yes"
       ]
      }, 
      {
       "output_type": "stream", 
       "stream": "stdout", 
       "text": [
        "", 
        "http://en.wikipedia.org/w/index.php?title=Eric_Cantor&amp;printable=yes"
       ]
      }, 
      {
       "output_type": "stream", 
       "stream": "stdout", 
       "text": [
        "", 
        "http://en.wikipedia.org/w/index.php?title=Joe_Scarborough&amp;printable=yes"
       ]
      }, 
      {
       "output_type": "stream", 
       "stream": "stdout", 
       "text": [
        "", 
        "http://en.wikipedia.org/w/index.php?title=Lindsay_Graham&amp;printable=yes"
       ]
      }, 
      {
       "output_type": "stream", 
       "stream": "stdout", 
       "text": [
        "", 
        "http://en.wikipedia.org/w/index.php?title=Roy_Moore&amp;printable=yes"
       ]
      }, 
      {
       "output_type": "stream", 
       "stream": "stdout", 
       "text": [
        "", 
        "http://en.wikipedia.org/w/index.php?title=Mike_Pence&amp;printable=yes"
       ]
      }, 
      {
       "output_type": "stream", 
       "stream": "stdout", 
       "text": [
        "", 
        "http://en.wikipedia.org/w/index.php?title=Haley_Barbour&amp;printable=yes"
       ]
      }, 
      {
       "output_type": "stream", 
       "stream": "stdout", 
       "text": [
        "", 
        "http://en.wikipedia.org/w/index.php?title=Dick_Cheney&amp;printable=yes"
       ]
      }, 
      {
       "output_type": "stream", 
       "stream": "stdout", 
       "text": [
        "", 
        "http://en.wikipedia.org/w/index.php?title=Judd_Gregg&amp;printable=yes"
       ]
      }, 
      {
       "output_type": "stream", 
       "stream": "stdout", 
       "text": [
        "", 
        "http://en.wikipedia.org/w/index.php?title=Scott_Brown&amp;printable=yes"
       ]
      }, 
      {
       "output_type": "stream", 
       "stream": "stdout", 
       "text": [
        "", 
        "http://en.wikipedia.org/w/index.php?title=Michael_Bloomberg&amp;printable=yes"
       ]
      }, 
      {
       "output_type": "stream", 
       "stream": "stdout", 
       "text": [
        "", 
        "http://en.wikipedia.org/w/index.php?title=Charlie_Crist&amp;printable=yes"
       ]
      }, 
      {
       "output_type": "stream", 
       "stream": "stdout", 
       "text": [
        "", 
        "http://en.wikipedia.org/w/index.php?title=Fred_Thompson&amp;printable=yes"
       ]
      }, 
      {
       "output_type": "stream", 
       "stream": "stdout", 
       "text": [
        "", 
        "http://en.wikipedia.org/w/index.php?title=John_Kasich&amp;printable=yes"
       ]
      }, 
      {
       "output_type": "stream", 
       "stream": "stdout", 
       "text": [
        "", 
        "http://en.wikipedia.org/w/index.php?title=Bob_Corker&amp;printable=yes"
       ]
      }, 
      {
       "output_type": "stream", 
       "stream": "stdout", 
       "text": [
        "", 
        "http://en.wikipedia.org/w/index.php?title=Joe_Lieberman&amp;printable=yes"
       ]
      }, 
      {
       "output_type": "stream", 
       "stream": "stdout", 
       "text": [
        "", 
        "http://en.wikipedia.org/w/index.php?title=Lou_Dobbs&amp;printable=yes"
       ]
      }, 
      {
       "output_type": "stream", 
       "stream": "stdout", 
       "text": [
        "", 
        "http://en.wikipedia.org/w/index.php?title=Mark_Sanford&amp;printable=yes"
       ]
      }, 
      {
       "output_type": "stream", 
       "stream": "stdout", 
       "text": [
        "", 
        "http://en.wikipedia.org/w/index.php?title=Carly_Fiorina&amp;printable=yes"
       ]
      }, 
      {
       "output_type": "stream", 
       "stream": "stdout", 
       "text": [
        "", 
        "http://en.wikipedia.org/w/index.php?title=Meg_Whitman&amp;printable=yes"
       ]
      }, 
      {
       "output_type": "stream", 
       "stream": "stdout", 
       "text": [
        "", 
        "http://en.wikipedia.org/w/index.php?title=Stanley_McChrystal&amp;printable=yes"
       ]
      }, 
      {
       "output_type": "stream", 
       "stream": "stdout", 
       "text": [
        "", 
        "http://en.wikipedia.org/w/index.php?title=Clarence_Thomas&amp;printable=yes"
       ]
      }, 
      {
       "output_type": "stream", 
       "stream": "stdout", 
       "text": [
        "", 
        "http://en.wikipedia.org/w/index.php?title=Allen_West_(politician)&amp;printable=yes"
       ]
      }, 
      {
       "output_type": "stream", 
       "stream": "stdout", 
       "text": [
        "", 
        "http://en.wikipedia.org/w/index.php?title=Any_other_individual&amp;printable=yes"
       ]
      }, 
      {
       "output_type": "stream", 
       "stream": "stdout", 
       "text": [
        "", 
        "http://en.wikipedia.org/w/index.php?title=Barack_Obama&amp;printable=yes"
       ]
      }, 
      {
       "output_type": "stream", 
       "stream": "stdout", 
       "text": [
        "", 
        "http://en.wikipedia.org/w/index.php?title=Hillary_Clinton&amp;printable=yes"
       ]
      }, 
      {
       "output_type": "stream", 
       "stream": "stdout", 
       "text": [
        "", 
        "http://en.wikipedia.org/w/index.php?title=Joe_Biden&amp;printable=yes"
       ]
      }, 
      {
       "output_type": "stream", 
       "stream": "stdout", 
       "text": [
        "", 
        "http://en.wikipedia.org/w/index.php?title=Jon_Huntsman,_Jr.&amp;printable=yes"
       ]
      }, 
      {
       "output_type": "stream", 
       "stream": "stdout", 
       "text": [
        "", 
        "http://en.wikipedia.org/w/index.php?title=Bob_McDonnell&amp;printable=yes"
       ]
      }, 
      {
       "output_type": "stream", 
       "stream": "stdout", 
       "text": [
        "", 
        "http://en.wikipedia.org/w/index.php?title=Susana_Martinez&amp;printable=yes"
       ]
      }, 
      {
       "output_type": "stream", 
       "stream": "stdout", 
       "text": [
        "", 
        "http://en.wikipedia.org/w/index.php?title=Rob_Portman&amp;printable=yes"
       ]
      }, 
      {
       "output_type": "stream", 
       "stream": "stdout", 
       "text": [
        "", 
        "http://en.wikipedia.org/w/index.php?title=Condoleezza_Rice&amp;printable=yes"
       ]
      }, 
      {
       "output_type": "stream", 
       "stream": "stdout", 
       "text": [
        "", 
        "http://en.wikipedia.org/w/index.php?title=Brian_Sandoval&amp;printable=yes"
       ]
      }, 
      {
       "output_type": "stream", 
       "stream": "stdout", 
       "text": [
        "", 
        "http://en.wikipedia.org/w/index.php?title=Cathy_McMorris_Rodgers&amp;printable=yes"
       ]
      }, 
      {
       "output_type": "stream", 
       "stream": "stdout", 
       "text": [
        "", 
        "http://en.wikipedia.org/w/index.php?title=Nikki_Haley&amp;printable=yes"
       ]
      }, 
      {
       "output_type": "stream", 
       "stream": "stdout", 
       "text": [
        "", 
        "http://en.wikipedia.org/w/index.php?title=Kelly_Ayotte&amp;printable=yes"
       ]
      }, 
      {
       "output_type": "stream", 
       "stream": "stdout", 
       "text": [
        "", 
        "http://en.wikipedia.org/w/index.php?title=Luis_Fortuno&amp;printable=yes"
       ]
      }, 
      {
       "output_type": "stream", 
       "stream": "stdout", 
       "text": [
        "", 
        "http://en.wikipedia.org/w/index.php?title=Pat_Toomey&amp;printable=yes"
       ]
      }, 
      {
       "output_type": "stream", 
       "stream": "stdout", 
       "text": [
        "", 
        "http://en.wikipedia.org/w/index.php?title=JC_Watts&amp;printable=yes"
       ]
      }, 
      {
       "output_type": "stream", 
       "stream": "stdout", 
       "text": [
        "", 
        "http://en.wikipedia.org/w/index.php?title=Dave_Heineman&amp;printable=yes"
       ]
      }, 
      {
       "output_type": "stream", 
       "stream": "stdout", 
       "text": [
        "", 
        "http://en.wikipedia.org/w/index.php?title=Bill_McCollum&amp;printable=yes"
       ]
      }, 
      {
       "output_type": "stream", 
       "stream": "stdout", 
       "text": [
        "", 
        "http://en.wikipedia.org/w/index.php?title=John_Boehner&amp;printable=yes"
       ]
      }, 
      {
       "output_type": "stream", 
       "stream": "stdout", 
       "text": [
        "", 
        "http://en.wikipedia.org/w/index.php?title=Jon_Kyl&amp;printable=yes"
       ]
      }, 
      {
       "output_type": "stream", 
       "stream": "stdout", 
       "text": [
        ""
       ]
      }
     ], 
     "prompt_number": 22
    }, 
    {
     "cell_type": "code", 
     "collapsed": false, 
     "input": [
      "#code to answer part e of the problem", 
      "", 
      "#get all of the races", 
      "query = 'SELECT race, date FROM races'", 
      "cursor.execute(query)", 
      "results = cursor.fetchall()", 
      "", 
      "#get the candidates from the north", 
      "query = 'SELECT name FROM candidates WHERE lat > 39.722201 and lat != \\'none\\''", 
      "cursor.execute(query)", 
      "nResults = cursor.fetchall()", 
      "", 
      "#get the candidates from the south", 
      "query = 'SELECT name FROM candidates WHERE lat < 39.722201 and lat != \\'none\\''", 
      "cursor.execute(query)", 
      "sResults = cursor.fetchall()", 
      "", 
      "#create a figure on which to plot the data", 
      "fig, axes = plt.subplots(nrows=len(results), ncols=1, figsize=(8, 5))", 
      "", 
      "#loop through the races", 
      "for n, raceRow in enumerate(results):", 
      "    pn = []#store data from northern candidates", 
      "    ps = []#store data from southern candidates", 
      "    race = raceRow[0]", 
      "    ", 
      "    #loop through northern candidates", 
      "    for candidate in nResults:", 
      "        name = candidate[0]", 
      "        query = 'SELECT date, price FROM predictions WHERE candidate = ? AND race = ?'", 
      "        cursor.execute(query, [name, race])", 
      "        predictionResults = cursor.fetchall()", 
      "        ", 
      "        #for each data point, convert the date to a datetime element and ", 
      "        #append it to the growing list", 
      "        for point in predictionResults:", 
      "            t = time.strptime(point[0], '%b %d, %Y')", 
      "            dt = datetime(t.tm_year, t.tm_mon, t.tm_mday)", 
      "            pn.append((dt, point[1]))", 
      "", 
      "    #loop through the southern candidates", 
      "    for candidate in sResults:", 
      "        name = candidate[0]", 
      "        query = 'SELECT date, price FROM predictions WHERE candidate = ? AND race = ?'", 
      "        cursor.execute(query, [name, race])", 
      "        predictionResults = cursor.fetchall()", 
      "        ", 
      "        #for each data point, convert the date to a datetime element and ", 
      "        #append it to the growing list", 
      "        for point in predictionResults:", 
      "            t = time.strptime(point[0], '%b %d, %Y')", 
      "            dt = datetime(t.tm_year, t.tm_mon, t.tm_mday)", 
      "            ps.append((dt, point[1]))", 
      "            ", 
      "    #create numpy arrays from the date", 
      "    pn = array(pn)", 
      "    ps = array(ps)", 
      "    ", 
      "    #create pandas DataFrames to organize the data", 
      "    dfn = DataFrame({'time':pn[:,0].tolist(), 'price':pn[:,1].tolist()})", 
      "    dfs = DataFrame({'time':ps[:,0].tolist(), 'price':ps[:,1].tolist()})", 
      "    ", 
      "    #add up all data points corresponding to the same day", 
      "    nseries = dfn.groupby('time').sum()['price']", 
      "    sseries = dfs.groupby('time').sum()['price']", 
      "    ", 
      "    #create another data frame with the north and south data together", 
      "    together = DataFrame({'North':nseries, 'South':sseries})", 
      "", 
      "    #plot it", 
      "    a = together.plot(ax=axes[n])", 
      "    a.set_title(race)", 
      "    a.set_ylabel('Probability')"
     ], 
     "language": "python", 
     "outputs": [], 
     "prompt_number": 23
    }, 
    {
     "cell_type": "code", 
     "collapsed": false, 
     "input": [
      "#generate query template", 
      "gquery = 'SELECT date, price FROM predictions WHERE candidate = ? and race = ?'", 
      "", 
      "#get the data corresponding to obama", 
      "cursor.execute(gquery, ['Barack Obama', '2012 Presidential Election'])", 
      "obamaResult = cursor.fetchall()", 
      "", 
      "#put the obama data into a list and generate a time series from it", 
      "oArray = []", 
      "for line in obamaResult:", 
      "    t = time.strptime(line[0], '%b %d, %Y')", 
      "    oArray.append((datetime(t.tm_year, t.tm_mon, t.tm_mday), line[1]))", 
      "oArray = array(oArray)", 
      "obamaSeries = Series(oArray[:,1], index=oArray[:,0])", 
      "", 
      "#select all of the republican data and generate a timeseries", 
      "rquery = 'SELECT name FROM candidates WHERE party LIKE \\'republican\\''", 
      "cursor.execute(rquery)", 
      "republicans = cursor.fetchall()", 
      "rdata = []", 
      "for republican in republicans:", 
      "    cursor.execute(gquery, [republican[0], '2012 Presidential Election'])", 
      "    republicanResult = cursor.fetchall()", 
      "    for line in republicanResult:", 
      "        t = time.strptime(line[0], '%b %d, %Y')", 
      "        rdata.append((datetime(t.tm_year, t.tm_mon, t.tm_mday), line[1]))", 
      "rdata = array(rdata)", 
      "rdf = DataFrame({'time':rdata[:,0].tolist(), 'price':rdata[:,1].tolist()})", 
      "rseries = rdf.groupby('time').sum()['price']", 
      "", 
      "#create a dataframe with everything put together", 
      "together = DataFrame({'Obama':obamaSeries, 'Republican':rseries})", 
      "", 
      "#plot the data", 
      "figure()", 
      "(together['Obama']+together['Republican']).plot(label='Sum of probabilities')", 
      "obamaSeries.plot(label='Probability of Obama')", 
      "ax = rseries.plot(label='Probability of a Republican')", 
      "ax.set_ylabel('Probability')", 
      "ax.set_title('Effiency of Prediction Markets')", 
      "legend()"
     ], 
     "language": "python", 
     "outputs": [
      {
       "output_type": "pyout", 
       "prompt_number": 26, 
       "text": [
        "&lt;matplotlib.legend.Legend at 0x7cddb90&gt;"
       ]
      }
     ], 
     "prompt_number": 26
    }, 
    {
     "cell_type": "code", 
     "collapsed": true, 
     "input": [], 
     "language": "python", 
     "outputs": [], 
     "prompt_number": "&nbsp;"
    }
   ]
  }
 ]
}