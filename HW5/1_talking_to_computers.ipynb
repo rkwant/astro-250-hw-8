{
 "metadata": {
  "name": "1_talking_to_computers"
 }, 
 "nbformat": 2, 
 "worksheets": [
  {
   "cells": [
    {
     "cell_type": "markdown", 
     "source": [
      "# Super simple webpage access"
     ]
    }, 
    {
     "cell_type": "code", 
     "collapsed": false, 
     "input": [
      "import urllib2 # Uniform Resource Locator", 
      "url = \"http://www.neuinfo.org/\"", 
      "response = urllib2.urlopen(url) # response is a file-like object", 
      "html = response.read()", 
      "response.close() # close response as you would a normal file", 
      "print html[:300]"
     ], 
     "language": "python", 
     "outputs": [
      {
       "output_type": "stream", 
       "stream": "stdout", 
       "text": [
        "&lt;!DOCTYPE html PUBLIC &quot;-//W3C//DTD XHTML 1.0 Transitional//EN&quot; &quot;http://www.w3.org/TR/xhtml1/DTD/xhtml1-transitional.dtd&quot;&gt;", 
        "&lt;html xmlns=&quot;http://www.w3.org/1999/xhtml&quot;&gt;", 
        "&lt;head&gt;", 
        "&lt;meta http-equiv=&quot;Content-Type&quot; content=&quot;text/html; charset=utf-8&quot; /&gt;", 
        "&lt;title&gt;Neuroscience Information Framework&lt;/title&gt;", 
        "&lt;m"
       ]
      }
     ], 
     "prompt_number": 1
    }, 
    {
     "cell_type": "markdown", 
     "source": [
      "# Scripting an HTTP GET request"
     ]
    }, 
    {
     "cell_type": "code", 
     "collapsed": false, 
     "input": [
      "import urllib2, urllib", 
      "data = {} # create a dictionary to store the GET data", 
      "data[\"author\"] = \"Bloom, Josh S\" # fill the data dictionary", 
      "url_values = urllib.urlencode(data) # encode the data in proper url format", 
      "url = \"http://adsabs.harvard.edu/cgi-bin/nph-abs_connect\"", 
      "full_url = url + \"?\" + url_values # GET request is appended to URL", 
      "response = urllib2.urlopen(full_url) # open the url as before", 
      "html = response.read()", 
      "response.close()", 
      "print html[:300]"
     ], 
     "language": "python", 
     "outputs": [
      {
       "output_type": "stream", 
       "stream": "stdout", 
       "text": [
        "&lt;!DOCTYPE HTML PUBLIC &quot;-//W3C//DTD HTML 4.0 Transitional//EN&quot;", 
        "&quot;http://www.w3.org/TR/REC-html40/loose.dtd&quot;&gt;", 
        "&lt;HTML&gt;", 
        "&lt;!--RAW FILE--&gt;", 
        "&lt;head&gt;", 
        "&lt;base href=&quot;http://adsabs.harvard.edu/cgi-bin/nph-abs_connect?author=Bloom%2C+Josh+S&quot; /&gt;", 
        "&lt;META NAME=&quot;robots&quot; CONTENT=&quot;noarchive&quot;&gt;", 
        "&lt;META HTTP-EQUIV=&quot;Content-Type&quot; C"
       ]
      }
     ], 
     "prompt_number": 2
    }, 
    {
     "cell_type": "markdown", 
     "source": [
      "# Scripting an HTTP POST request"
     ]
    }, 
    {
     "cell_type": "code", 
     "collapsed": false, 
     "input": [
      "import urllib2, urllib", 
      "data = {}", 
      "data[\"author\"] = \"Bloom, Josh S\"", 
      "params = urllib.urlencode(data) # same urlencode method", 
      "url = \"http://adsabs.harvard.edu/cgi-bin/nph-abs_connect\"", 
      "response = urllib2.urlopen(url, params) ", 
      "# POST request is indicated by including the params in urlopen", 
      "html = response.read()", 
      "response.close()", 
      "print html[:300]"
     ], 
     "language": "python", 
     "outputs": [
      {
       "output_type": "stream", 
       "stream": "stdout", 
       "text": [
        "&lt;!DOCTYPE HTML PUBLIC &quot;-//W3C//DTD HTML 4.0 Transitional//EN&quot;", 
        "&quot;http://www.w3.org/TR/REC-html40/loose.dtd&quot;&gt;", 
        "&lt;HTML&gt;", 
        "&lt;!--RAW FILE--&gt;", 
        "&lt;head&gt;", 
        "&lt;base href=&quot;http://adsabs.harvard.edu/cgi-bin/nph-abs_connect&quot; /&gt;", 
        "&lt;META NAME=&quot;robots&quot; CONTENT=&quot;noarchive&quot;&gt;", 
        "&lt;META HTTP-EQUIV=&quot;Content-Type&quot; CONTENT=&quot;text/html; char"
       ]
      }
     ], 
     "prompt_number": 26
    }, 
    {
     "cell_type": "markdown", 
     "source": [
      "# Access an FTP server"
     ]
    }, 
    {
     "cell_type": "code", 
     "collapsed": false, 
     "input": [
      "import ftplib", 
      "ftp = ftplib.FTP(\"ftp.cac.psu.edu\")", 
      "ftp.login()"
     ], 
     "language": "python", 
     "outputs": [
      {
       "output_type": "pyout", 
       "prompt_number": 3, 
       "text": [
        "&apos;230 Guest login ok, access restrictions apply.&apos;"
       ]
      }
     ], 
     "prompt_number": 3
    }, 
    {
     "cell_type": "code", 
     "collapsed": false, 
     "input": [
      "ftp.cwd(\"/pub/folk_music/sheet_music\")"
     ], 
     "language": "python", 
     "outputs": [
      {
       "output_type": "pyout", 
       "prompt_number": 4, 
       "text": [
        "&apos;250 CWD command successful.&apos;"
       ]
      }
     ], 
     "prompt_number": 4
    }, 
    {
     "cell_type": "code", 
     "collapsed": false, 
     "input": [
      "ftp.dir()"
     ], 
     "language": "python", 
     "outputs": [
      {
       "output_type": "stream", 
       "stream": "stdout", 
       "text": [
        "total 2746", 
        "-rw-rw-r--   1 1018       66004 Jun 11  1996 Childgrove.JPG", 
        "-rw-rw-r--   1 1018       81269 Jun 11  1996 Durang&apos;sHornpipe.JPG", 
        "-rw-rw-r--   1 1018       76273 Jun 11  1996 FemaleSaylor.JPG", 
        "-rw-rw-r--   1 1018      101445 Jun 11  1996 Hoshaya.JPG", 
        "-rw-rw-r--   1 1018      129214 Jun 11  1996 Mel&apos;sMelody.JPG", 
        "-rw-rw-r--   1 1018       87422 Jun 11  1996 Nathan&apos;sSong.JPG", 
        "-rw-rw-r--   1 1018       73262 Jun 11  1996 NextYear.JPG", 
        "-rw-rw-r--   1 1018      104283 Jun 11  1996 OffToCalifornia.JPG", 
        "-rw-rw-r--   1 1018       95261 Jun 11  1996 PlanxtyFannyPower.JPG", 
        "-rw-rw-r--   1 1018       72635 Jun 11  1996 PlanxtyIrwin.JPG", 
        "-rw-rw-r--   1 1018      127512 Jun 11  1996 RightsOfMan.JPG", 
        "-rw-rw-r--   1 1018      124910 Jun 11  1996 SecondAnniversaryWaltz.JPG", 
        "-rw-rw-r--   1 1018      103962 Jun 11  1996 Sheebeg.and.Sheemore.JPG", 
        "-rw-rw-r--   1 1018       87386 Dec 15  1995 Star_of_the_County_Down.JPG"
       ]
      }
     ], 
     "prompt_number": 5
    }, 
    {
     "cell_type": "code", 
     "collapsed": false, 
     "input": [
      "ftp.retrbinary('RETR RightsOfMan.JPG', open('music.jpg', 'wb').write)"
     ], 
     "language": "python", 
     "outputs": [
      {
       "output_type": "pyout", 
       "prompt_number": 6, 
       "text": [
        "&apos;226 Transfer complete.&apos;"
       ]
      }
     ], 
     "prompt_number": 6
    }, 
    {
     "cell_type": "code", 
     "collapsed": false, 
     "input": [
      "%pylab inline"
     ], 
     "language": "python", 
     "outputs": [
      {
       "output_type": "stream", 
       "stream": "stdout", 
       "text": [
        "", 
        "Welcome to pylab, a matplotlib-based Python environment [backend: module://IPython.zmq.pylab.backend_inline].", 
        "For more information, type &apos;help(pylab)&apos;."
       ]
      }
     ], 
     "prompt_number": 7
    }, 
    {
     "cell_type": "code", 
     "collapsed": false, 
     "input": [
      "plt.figsize(8, 6)", 
      "im = plt.imread(\"music.jpg\")", 
      "imshow(im, origin=\"lower\")"
     ], 
     "language": "python", 
     "outputs": [
      {
       "output_type": "pyout", 
       "prompt_number": 8, 
       "text": [
        "&lt;matplotlib.image.AxesImage at 0x51bc9b0&gt;"
       ]
      }, 
      {
       "output_type": "display_data", 
       "png": "[encoded data removed]"
      }
     ], 
     "prompt_number": 8
    }, 
    {
     "cell_type": "markdown", 
     "source": [
      "# Parsing HTML with BeautifulSoup"
     ]
    }, 
    {
     "cell_type": "code", 
     "collapsed": false, 
     "input": [
      "import urllib2", 
      "response = urllib2.urlopen(\"http://words.bighugelabs.com/\")", 
      "html = response.read()", 
      "response.close()", 
      "", 
      "from bs4 import BeautifulSoup", 
      "soup = BeautifulSoup(html)", 
      "forms = soup.findAll(\"form\")", 
      "print(forms)"
     ], 
     "language": "python", 
     "outputs": [
      {
       "output_type": "stream", 
       "stream": "stdout", 
       "text": [
        "[&lt;form id=&quot;inputform&quot; action=&quot;/&quot; method=&quot;get&quot; onsubmit=&quot;return lookup()&quot;&gt;", 
        "&lt;input id=&quot;q&quot; name=&quot;q&quot; size=&quot;40&quot; class=&quot;input&quot; value=&quot;&quot; /&gt;", 
        "&lt;input type=&quot;submit&quot; value=&quot;Lookup&quot; /&gt;", 
        "&lt;/form&gt;]"
       ]
      }
     ], 
     "prompt_number": 1
    }, 
    {
     "cell_type": "code", 
     "collapsed": false, 
     "input": [
      "links = soup.findAll(\"a\")", 
      "for link in links:", 
      "    print link"
     ], 
     "language": "python", 
     "outputs": [
      {
       "output_type": "stream", 
       "stream": "stdout", 
       "text": [
        "&lt;a href=&quot;/&quot;&gt;Big Huge Thesaurus&lt;/a&gt;", 
        "&lt;a href=&quot;/blog.php&quot;&gt;blog post ideas&lt;/a&gt;", 
        "&lt;a href=&quot;/plot.php&quot;&gt;story plot/logline&lt;/a&gt;", 
        "&lt;a href=&quot;/about.php&quot;&gt;About this site&lt;/a&gt;", 
        "&lt;a href=&quot;/api.php&quot;&gt;API&lt;/a&gt;", 
        "&lt;a href=&quot;http://bighugelabs.com/flickr/privacy.php&quot;&gt;Privacy&lt;/a&gt;", 
        "&lt;a href=&quot;/login.php&quot;&gt;Sign in&lt;/a&gt;", 
        "&lt;a href=&quot;http://watson-net.com&quot;&gt;John Watson, LLC&lt;/a&gt;"
       ]
      }
     ], 
     "prompt_number": 2
    }, 
    {
     "cell_type": "markdown", 
     "source": [
      "Remember when you downloaded names for bears? We can do that easily by combining scripted webpage access with BeautifulSoup:"
     ]
    }, 
    {
     "cell_type": "code", 
     "collapsed": false, 
     "input": [
      "import urllib2, urllib", 
      "from bs4 import BeautifulSoup", 
      "letters = \"qwertyuioplkjhgfdsazxcvbnm\"", 
      "boy_names = []", 
      "for n in letters:", 
      "    url = \"http://www.listofbabynames.org/\" + n + \"_boys.htm\"", 
      "    response = urllib2.urlopen(url)", 
      "    html = response.read()", 
      "    response.close()", 
      "    soup = BeautifulSoup(html)", 
      "    items = soup.findAll(\"li\")", 
      "    for item in items:", 
      "        if not item.findAll(\"a\"):", 
      "            boy_names.append(str(item.next).strip())", 
      "boy_names.sort()", 
      "print (str(len(boy_names)) + \" names from \" + boy_names[0] + \" to \" + boy_names[-1] + \".\")"
     ], 
     "language": "python", 
     "outputs": [
      {
       "ename": "ImportError", 
       "evalue": "No module named bs4", 
       "output_type": "pyerr", 
       "traceback": [
        "<span class=\"ansired\">---------------------------------------------------------------------------</span>\n<span class=\"ansired\">ImportError</span>                               Traceback (most recent call last)", 
        "<span class=\"ansigreen\">C:\\Users\\RK\\Documents\\Berkeley\\Classes\\Astronomy_250\\Weekly_Files\\Week_6_Lecture\\&lt;ipython-input-9-c9754decc958&gt;</span> in <span class=\"ansicyan\">&lt;module&gt;</span><span class=\"ansiblue\">()</span>\n<span class=\"ansigreen\">      1</span> <span class=\"ansigreen\">import</span> urllib2<span class=\"ansiyellow\">,</span> urllib<span class=\"ansiyellow\"></span>\n<span class=\"ansigreen\">----&gt; 2</span><span class=\"ansiyellow\"> </span><span class=\"ansigreen\">from</span> bs4 <span class=\"ansigreen\">import</span> BeautifulSoup<span class=\"ansiyellow\"></span>\n<span class=\"ansigreen\">      3</span> letters <span class=\"ansiyellow\">=</span> <span class=\"ansiblue\">&quot;qwertyuioplkjhgfdsazxcvbnm&quot;</span><span class=\"ansiyellow\"></span>\n<span class=\"ansigreen\">      4</span> boy_names <span class=\"ansiyellow\">=</span> <span class=\"ansiyellow\">[</span><span class=\"ansiyellow\">]</span><span class=\"ansiyellow\"></span>\n<span class=\"ansigreen\">      5</span> <span class=\"ansigreen\">for</span> n <span class=\"ansigreen\">in</span> letters<span class=\"ansiyellow\">:</span><span class=\"ansiyellow\"></span>\n", 
        "<span class=\"ansired\">ImportError</span>: No module named bs4"
       ]
      }
     ], 
     "prompt_number": 9
    }, 
    {
     "cell_type": "markdown", 
     "source": [
      "To demonstrate we downloaded and parsed all the names, and to have a little fun, let's make up an official-sounding, honorable name for a majestic bear."
     ]
    }, 
    {
     "cell_type": "code", 
     "collapsed": false, 
     "input": [
      "import random", 
      "proper_bear_name = \"\"", 
      "for n in range(5):", 
      "    proper_bear_name += random.choice(boy_names) + \" \"", 
      "proper_bear_name = \"Dr. \" + proper_bear_name[:-1] + \" XVI\" + \" DMD\"", 
      "print proper_bear_name"
     ], 
     "language": "python", 
     "outputs": [
      {
       "output_type": "stream", 
       "stream": "stdout", 
       "text": [
        "Dr. Phuong Carmelo Sumit Bingham Pistol XVI DMD"
       ]
      }
     ], 
     "prompt_number": 18
    }, 
    {
     "cell_type": "markdown", 
     "source": [
      "# JSON API"
     ]
    }, 
    {
     "cell_type": "code", 
     "collapsed": false, 
     "input": [
      "import json, urllib2", 
      "base_domain = \"http://words.bighugelabs.com/\"", 
      "api_key =\"483e281b60496d7961d852629799e733\"", 
      "word = \"dog\"", 
      "url = base_domain + \"api/2/\" + api_key + \"/\" + word + \"/json\"", 
      "result = json.load(urllib2.urlopen(url)) # a dictionary!", 
      "print result"
     ], 
     "language": "python", 
     "outputs": [
      {
       "output_type": "stream", 
       "stream": "stdout", 
       "text": [
        "{u&apos;verb&apos;: {u&apos;syn&apos;: [u&apos;chase&apos;, u&apos;chase after&apos;, u&apos;trail&apos;, u&apos;tail&apos;, u&apos;tag&apos;, u&apos;give chase&apos;, u&apos;go after&apos;, u&apos;track&apos;, u&apos;follow&apos;, u&apos;pursue&apos;], u&apos;rel&apos;: [u&apos;chase away&apos;, u&apos;tag along&apos;]}, u&apos;noun&apos;: {u&apos;syn&apos;: [u&apos;domestic dog&apos;, u&apos;Canis familiaris&apos;, u&apos;frump&apos;, u&apos;cad&apos;, u&apos;bounder&apos;, u&apos;blackguard&apos;, u&apos;hound&apos;, u&apos;heel&apos;, u&apos;frank&apos;, u&apos;frankfurter&apos;, u&apos;hotdog&apos;, u&apos;hot dog&apos;, u&apos;wiener&apos;, u&apos;wienerwurst&apos;, u&apos;weenie&apos;, u&apos;pawl&apos;, u&apos;detent&apos;, u&apos;click&apos;, u&apos;andiron&apos;, u&apos;firedog&apos;, u&apos;dog-iron&apos;, u&apos;blighter&apos;, u&apos;canid&apos;, u&apos;canine&apos;, u&apos;catch&apos;, u&apos;chap&apos;, u&apos;cuss&apos;, u&apos;disagreeable woman&apos;, u&apos;fella&apos;, u&apos;feller&apos;, u&apos;fellow&apos;, u&apos;gent&apos;, u&apos;lad&apos;, u&apos;sausage&apos;, u&apos;scoundrel&apos;, u&apos;stop&apos;, u&apos;support&apos;, u&apos;unpleasant woman&apos;, u&apos;villain&apos;]}}"
       ]
      }
     ], 
     "prompt_number": 29
    }, 
    {
     "cell_type": "markdown", 
     "source": [
      "A more fleshed-out example code, prints the output more cleanly."
     ]
    }, 
    {
     "cell_type": "code", 
     "collapsed": false, 
     "input": [
      "import json, urllib2, sys", 
      "base_domain = \"http://words.bighugelabs.com/\"", 
      "api_key = \"483e281b60496d7961d852629799e733\"", 
      "word = \"dog\"", 
      "print \"Retrieving thesaurus entry for \\\"\" + word + \"\\\".\"", 
      "url = base_domain + \"api/2/\" + api_key + \"/\" + word + \"/json\"", 
      "try:", 
      "    result = json.load(urllib2.urlopen(url)) # a dictionary!", 
      "except:", 
      "    print \"Error - word probably not in thesaurus.\"", 
      "    sys.exit()", 
      "for part_of_speech in result:", 
      "    print \"-\"*50", 
      "    print \"These are the \" + part_of_speech + \" entries:\"", 
      "    for key in [\"syn\", \"ant\", \"rel\"]:", 
      "        try:", 
      "            for synonym in result[part_of_speech][key]:", 
      "                print key + \" - \" + synonym", 
      "        except:", 
      "            continue"
     ], 
     "language": "python", 
     "outputs": [
      {
       "output_type": "stream", 
       "stream": "stdout", 
       "text": [
        "Retrieving thesaurus entry for &quot;dog&quot;.", 
        "--------------------------------------------------"
       ]
      }, 
      {
       "output_type": "stream", 
       "stream": "stdout", 
       "text": [
        "", 
        "These are the verb entries:", 
        "syn - chase", 
        "syn - chase after", 
        "syn - trail", 
        "syn - tail", 
        "syn - tag", 
        "syn - give chase", 
        "syn - go after", 
        "syn - track", 
        "syn - follow", 
        "syn - pursue", 
        "rel - chase away", 
        "rel - tag along", 
        "--------------------------------------------------", 
        "These are the noun entries:", 
        "syn - domestic dog", 
        "syn - Canis familiaris", 
        "syn - frump", 
        "syn - cad", 
        "syn - bounder", 
        "syn - blackguard", 
        "syn - hound", 
        "syn - heel", 
        "syn - frank", 
        "syn - frankfurter", 
        "syn - hotdog", 
        "syn - hot dog", 
        "syn - wiener", 
        "syn - wienerwurst", 
        "syn - weenie", 
        "syn - pawl", 
        "syn - detent", 
        "syn - click", 
        "syn - andiron", 
        "syn - firedog", 
        "syn - dog-iron", 
        "syn - blighter", 
        "syn - canid", 
        "syn - canine", 
        "syn - catch", 
        "syn - chap", 
        "syn - cuss", 
        "syn - disagreeable woman", 
        "syn - fella", 
        "syn - feller", 
        "syn - fellow", 
        "syn - gent", 
        "syn - lad", 
        "syn - sausage", 
        "syn - scoundrel", 
        "syn - stop", 
        "syn - support", 
        "syn - unpleasant woman", 
        "syn - villain"
       ]
      }
     ], 
     "prompt_number": 32
    }, 
    {
     "cell_type": "code", 
     "collapsed": true, 
     "input": [], 
     "language": "python", 
     "outputs": [], 
     "prompt_number": "&nbsp;"
    }
   ]
  }
 ]
}