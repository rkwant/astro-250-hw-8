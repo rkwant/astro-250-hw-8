{
 "metadata": {
  "name": "3_clients"
 }, 
 "nbformat": 2, 
 "worksheets": [
  {
   "cells": [
    {
     "cell_type": "markdown", 
     "source": [
      "# TCP Socket Client"
     ]
    }, 
    {
     "cell_type": "code", 
     "collapsed": false, 
     "input": [
      "import socket, sys", 
      "s = socket.socket(socket.AF_INET, socket.SOCK_STREAM) ", 
      "host, port = \"\", 5001 # empty host string = localhost", 
      "s.connect((host, port))", 
      "cmd = \"hello\" # if making a command line script, use sys.argv[1]", 
      "s.send(cmd) # send command", 
      "data = s.recv(100) # read up to 100 bytes", 
      "print \"Server says:\", data", 
      "s.close()"
     ], 
     "language": "python", 
     "outputs": [
      {
       "output_type": "stream", 
       "stream": "stdout", 
       "text": [
        "Server says: How do you do?"
       ]
      }
     ], 
     "prompt_number": 9
    }, 
    {
     "cell_type": "code", 
     "collapsed": false, 
     "input": [
      "import socket, sys", 
      "s = socket.socket(socket.AF_INET, socket.SOCK_STREAM) ", 
      "host, port = \"\", 5002 # empty host string = localhost", 
      "s.connect((host, port))", 
      "cmd = \"time\" # if making a command line script, use sys.argv[1]", 
      "s.send(cmd) # send command", 
      "data = s.recv(100) # read up to 100 bytes", 
      "print \"Server says:\", data", 
      "s.close()"
     ], 
     "language": "python", 
     "outputs": [
      {
       "output_type": "stream", 
       "stream": "stdout", 
       "text": [
        "Server says: Sun Feb 26 19:45:10 2012"
       ]
      }
     ], 
     "prompt_number": 14
    }, 
    {
     "cell_type": "markdown", 
     "source": [
      "# XMLRPC Client"
     ]
    }, 
    {
     "cell_type": "code", 
     "collapsed": false, 
     "input": [
      "import xmlrpclib, sys", 
      "host, port = \"\", 5021", 
      "server = xmlrpclib.ServerProxy(\"http://%s:%d\" % (host, port))", 
      "available_methods = server.system.listMethods()", 
      "print \"Available methods from server:\"", 
      "for method in available_methods:", 
      "    print \"\\t\" + method", 
      "result = server.subtraction(1, 4)", 
      "print \"Result:\", result", 
      "result = server.addition(1, 4)", 
      "print \"Result:\", result"
     ], 
     "language": "python", 
     "outputs": [
      {
       "output_type": "stream", 
       "stream": "stdout", 
       "text": [
        "Available methods from server:", 
        "\taddition", 
        "\tsubtraction", 
        "\tsystem.listMethods", 
        "\tsystem.methodHelp", 
        "\tsystem.methodSignature", 
        "\tsystem.multicall", 
        "Result: -3", 
        "Result: 5"
       ]
      }
     ], 
     "prompt_number": 6
    }, 
    {
     "cell_type": "code", 
     "collapsed": false, 
     "input": [
      "result = server.addition(12, 4.5)", 
      "print result"
     ], 
     "language": "python", 
     "outputs": [
      {
       "output_type": "stream", 
       "stream": "stdout", 
       "text": [
        "16.5"
       ]
      }
     ], 
     "prompt_number": 9
    }
   ]
  }
 ]
}