{
 "metadata": {
  "name": "2_servers"
 }, 
 "nbformat": 2, 
 "worksheets": [
  {
   "cells": [
    {
     "cell_type": "markdown", 
     "source": [
      "# TCP Socket Server"
     ]
    }, 
    {
     "cell_type": "code", 
     "collapsed": false, 
     "input": [
      "import socket, time", 
      "s = socket.socket(socket.AF_INET, socket.SOCK_STREAM) ", 
      "host, port = \"\", 5000", 
      "s.bind((host, port))", 
      "s.listen(1)", 
      "conn, addr = s.accept()", 
      "print \"Client is at\", addr, \".\"", 
      "data = conn.recv(100) ", 
      "print \"Client says:\", data", 
      "response = \"Invalid command.\"", 
      "if data == \"hello\":", 
      "    response = \"How do you do?\"", 
      "if data == \"time\":", 
      "    response = time.ctime()", 
      "if data == \"goodbye\":", 
      "    response = \"It was nice hearing from you.\"", 
      "conn.send(response) # now send response", 
      "conn.close()"
     ], 
     "language": "python", 
     "outputs": [
      {
       "output_type": "stream", 
       "stream": "stdout", 
       "text": [
        "Client is at (&apos;127.0.0.1&apos;, 56561) .", 
        "Client says: time"
       ]
      }
     ], 
     "prompt_number": 5
    }, 
    {
     "cell_type": "markdown", 
     "source": [
      "Make a server that runs indefinitely. Must kill it with an interrupt."
     ]
    }, 
    {
     "cell_type": "code", 
     "collapsed": false, 
     "input": [
      "import SocketServer, time", 
      "class EchoRequestHandler(SocketServer.BaseRequestHandler):", 
      "    def handle(self):", 
      "        data = self.request.recv(100)", 
      "        response = \"Invalid command.\"", 
      "        if data == \"hello\":", 
      "            response = \"How do you do?\"", 
      "        if data == \"time\":", 
      "            response = time.ctime()", 
      "        self.request.send(response)", 
      "server = SocketServer.ThreadingTCPServer(('', 5002), EchoRequestHandler)", 
      "server.serve_forever()"
     ], 
     "language": "python", 
     "outputs": [
      {
       "ename": "KeyboardInterrupt", 
       "evalue": "", 
       "output_type": "pyerr", 
       "traceback": [
        "<span class=\"ansired\">---------------------------------------------------------------------------</span>\n<span class=\"ansired\">KeyboardInterrupt</span>                         Traceback (most recent call last)", 
        "<span class=\"ansigreen\">/Users/cklein/Desktop/Research_Support/Ay_250_Python_2012/Week_6_Lecture_files/&lt;ipython-input-11-d10607671245&gt;</span> in <span class=\"ansicyan\">&lt;module&gt;</span><span class=\"ansiblue\">()</span>\n<span class=\"ansigreen\">     10</span>         self<span class=\"ansiblue\">.</span>request<span class=\"ansiblue\">.</span>send<span class=\"ansiblue\">(</span>response<span class=\"ansiblue\">)</span><span class=\"ansiblue\"></span>\n<span class=\"ansigreen\">     11</span> server <span class=\"ansiblue\">=</span> SocketServer<span class=\"ansiblue\">.</span>ThreadingTCPServer<span class=\"ansiblue\">(</span><span class=\"ansiblue\">(</span><span class=\"ansiblue\">&apos;&apos;</span><span class=\"ansiblue\">,</span> <span class=\"ansicyan\">5002</span><span class=\"ansiblue\">)</span><span class=\"ansiblue\">,</span> EchoRequestHandler<span class=\"ansiblue\">)</span><span class=\"ansiblue\"></span>\n<span class=\"ansigreen\">---&gt; 12</span><span class=\"ansired\"> </span>server<span class=\"ansiblue\">.</span>serve_forever<span class=\"ansiblue\">(</span><span class=\"ansiblue\">)</span><span class=\"ansiblue\"></span>\n", 
        "<span class=\"ansigreen\">/Library/Frameworks/Python.framework/Versions/7.2/lib/python2.7/SocketServer.pyc</span> in <span class=\"ansicyan\">serve_forever</span><span class=\"ansiblue\">(self, poll_interval)</span>\n<span class=\"ansigreen\">    223</span>                 <span class=\"ansired\"># polling. Polling reduces our responsiveness to a</span>\n<span class=\"ansiblue\"></span>\n<span class=\"ansigreen\">    224</span>                 <span class=\"ansired\"># shutdown request and wastes cpu at all other times.</span>\n<span class=\"ansiblue\"></span>\n<span class=\"ansigreen\">--&gt; 225</span><span class=\"ansired\">                 </span>r<span class=\"ansiblue\">,</span> w<span class=\"ansiblue\">,</span> e <span class=\"ansiblue\">=</span> select<span class=\"ansiblue\">.</span>select<span class=\"ansiblue\">(</span><span class=\"ansiblue\">[</span>self<span class=\"ansiblue\">]</span><span class=\"ansiblue\">,</span> <span class=\"ansiblue\">[</span><span class=\"ansiblue\">]</span><span class=\"ansiblue\">,</span> <span class=\"ansiblue\">[</span><span class=\"ansiblue\">]</span><span class=\"ansiblue\">,</span> poll_interval<span class=\"ansiblue\">)</span><span class=\"ansiblue\"></span>\n<span class=\"ansigreen\">    226</span>                 <span class=\"ansigreen\">if</span> self <span class=\"ansigreen\">in</span> r<span class=\"ansiblue\">:</span><span class=\"ansiblue\"></span>\n<span class=\"ansigreen\">    227</span>                     self<span class=\"ansiblue\">.</span>_handle_request_noblock<span class=\"ansiblue\">(</span><span class=\"ansiblue\">)</span><span class=\"ansiblue\"></span>\n", 
        "<span class=\"ansired\">KeyboardInterrupt</span>: "
       ]
      }
     ], 
     "prompt_number": 11
    }, 
    {
     "cell_type": "markdown", 
     "source": [
      "# XMLRPC Server"
     ]
    }, 
    {
     "cell_type": "code", 
     "collapsed": false, 
     "input": [
      "import SimpleXMLRPCServer", 
      "class Some_Class_We_Want_Remotely_Accessible:", 
      "    def addition(self, a, b):", 
      "        return a + b", 
      "    def subtraction(self, a, b):", 
      "        return a - b", 
      "host, port = \"\", 5021", 
      "server = SimpleXMLRPCServer.SimpleXMLRPCServer((host, port), allow_none=True)", 
      "server.register_instance(Some_Class_We_Want_Remotely_Accessible())", 
      "server.register_multicall_functions()", 
      "server.register_introspection_functions()", 
      "print \"XMLRPC Server is starting at:\", host, port"
     ], 
     "language": "python", 
     "outputs": [
      {
       "output_type": "stream", 
       "stream": "stdout", 
       "text": [
        "XMLRPC Server is starting at:  5021"
       ]
      }
     ], 
     "prompt_number": 3
    }, 
    {
     "cell_type": "code", 
     "collapsed": false, 
     "input": [
      "server.serve_forever()"
     ], 
     "language": "python", 
     "outputs": [
      {
       "output_type": "stream", 
       "stream": "stderr", 
       "text": [
        "localhost.berkeley.edu - - [26/Feb/2012 23:17:39] &quot;POST /RPC2 HTTP/1.1&quot; 200 -", 
        "localhost.berkeley.edu - - [26/Feb/2012 23:17:39] &quot;POST /RPC2 HTTP/1.1&quot; 200 -", 
        "localhost.berkeley.edu - - [26/Feb/2012 23:17:39] &quot;POST /RPC2 HTTP/1.1&quot; 200 -", 
        "localhost.berkeley.edu - - [26/Feb/2012 23:17:41] &quot;POST /RPC2 HTTP/1.1&quot; 200 -"
       ]
      }, 
      {
       "output_type": "stream", 
       "stream": "stderr", 
       "text": [
        "localhost.berkeley.edu - - [26/Feb/2012 23:17:45] &quot;POST /RPC2 HTTP/1.1&quot; 200 -", 
        "localhost.berkeley.edu - - [26/Feb/2012 23:18:03] &quot;POST /RPC2 HTTP/1.1&quot; 200 -"
       ]
      }, 
      {
       "ename": "KeyboardInterrupt", 
       "evalue": "", 
       "output_type": "pyerr", 
       "traceback": [
        "<span class=\"ansired\">---------------------------------------------------------------------------</span>\n<span class=\"ansired\">KeyboardInterrupt</span>                         Traceback (most recent call last)", 
        "<span class=\"ansigreen\">/Users/cklein/Desktop/Research_Support/Ay_250_Python_2012/Week_6_Lecture_files/&lt;ipython-input-4-30934a6743d8&gt;</span> in <span class=\"ansicyan\">&lt;module&gt;</span><span class=\"ansiblue\">()</span>\n<span class=\"ansigreen\">----&gt; 1</span><span class=\"ansired\"> </span>server<span class=\"ansiblue\">.</span>serve_forever<span class=\"ansiblue\">(</span><span class=\"ansiblue\">)</span><span class=\"ansiblue\"></span>\n", 
        "<span class=\"ansigreen\">/Library/Frameworks/Python.framework/Versions/7.2/lib/python2.7/SocketServer.pyc</span> in <span class=\"ansicyan\">serve_forever</span><span class=\"ansiblue\">(self, poll_interval)</span>\n<span class=\"ansigreen\">    223</span>                 <span class=\"ansired\"># polling. Polling reduces our responsiveness to a</span>\n<span class=\"ansiblue\"></span>\n<span class=\"ansigreen\">    224</span>                 <span class=\"ansired\"># shutdown request and wastes cpu at all other times.</span>\n<span class=\"ansiblue\"></span>\n<span class=\"ansigreen\">--&gt; 225</span><span class=\"ansired\">                 </span>r<span class=\"ansiblue\">,</span> w<span class=\"ansiblue\">,</span> e <span class=\"ansiblue\">=</span> select<span class=\"ansiblue\">.</span>select<span class=\"ansiblue\">(</span><span class=\"ansiblue\">[</span>self<span class=\"ansiblue\">]</span><span class=\"ansiblue\">,</span> <span class=\"ansiblue\">[</span><span class=\"ansiblue\">]</span><span class=\"ansiblue\">,</span> <span class=\"ansiblue\">[</span><span class=\"ansiblue\">]</span><span class=\"ansiblue\">,</span> poll_interval<span class=\"ansiblue\">)</span><span class=\"ansiblue\"></span>\n<span class=\"ansigreen\">    226</span>                 <span class=\"ansigreen\">if</span> self <span class=\"ansigreen\">in</span> r<span class=\"ansiblue\">:</span><span class=\"ansiblue\"></span>\n<span class=\"ansigreen\">    227</span>                     self<span class=\"ansiblue\">.</span>_handle_request_noblock<span class=\"ansiblue\">(</span><span class=\"ansiblue\">)</span><span class=\"ansiblue\"></span>\n", 
        "<span class=\"ansired\">KeyboardInterrupt</span>: "
       ]
      }
     ], 
     "prompt_number": 4
    }
   ]
  }
 ]
}